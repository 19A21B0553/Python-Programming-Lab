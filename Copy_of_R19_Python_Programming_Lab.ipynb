{
  "nbformat": 4,
  "nbformat_minor": 0,
  "metadata": {
    "colab": {
      "name": "Copy of R19-Python Programming Lab.ipynb",
      "provenance": [],
      "collapsed_sections": [
        "sTaUhZDHPi-S",
        "Sr7C0VD1-xI-",
        "8GBuHCF8NU84",
        "5pqEk8YiVJx5",
        "dcx0dY_YZnSk",
        "sO7p46rctrOZ",
        "b2vLyFd2_sUC",
        "-wlg2SBQLwv5",
        "cpzVlSAU24SN",
        "SxmHiNgP97lP",
        "aVJRn6YBDXjV",
        "1aY122Ck7x7n"
      ],
      "toc_visible": true,
      "include_colab_link": true
    },
    "kernelspec": {
      "name": "python3",
      "display_name": "Python 3"
    },
    "language_info": {
      "name": "python"
    }
  },
  "cells": [
    {
      "cell_type": "markdown",
      "metadata": {
        "id": "view-in-github",
        "colab_type": "text"
      },
      "source": [
        "<a href=\"https://colab.research.google.com/github/19A21B0553/Python-Programming-Lab/blob/main/Copy_of_R19_Python_Programming_Lab.ipynb\" target=\"_parent\"><img src=\"https://colab.research.google.com/assets/colab-badge.svg\" alt=\"Open In Colab\"/></a>"
      ]
    },
    {
      "cell_type": "markdown",
      "metadata": {
        "id": "XgaTnEbw2KIP"
      },
      "source": [
        "  **R.Sai Durga Devi -\n",
        "  19A21B0553 -\n",
        "  CSE SHIFT**\n",
        " "
      ]
    },
    {
      "cell_type": "markdown",
      "metadata": {
        "id": "sTaUhZDHPi-S"
      },
      "source": [
        "#***Exercise-1:basics***"
      ]
    },
    {
      "cell_type": "markdown",
      "metadata": {
        "id": "clh0bK48SK28"
      },
      "source": [
        "**a) Running instructions in Interactive interpreter and a Python Scrip**"
      ]
    },
    {
      "cell_type": "markdown",
      "metadata": {
        "id": "VEFpcVgmacyP"
      },
      "source": [
        "*interactive interpreter"
      ]
    },
    {
      "cell_type": "code",
      "metadata": {
        "id": "DX511vCySdj5"
      },
      "source": [
        "b=2"
      ],
      "execution_count": null,
      "outputs": []
    },
    {
      "cell_type": "code",
      "metadata": {
        "colab": {
          "base_uri": "https://localhost:8080/"
        },
        "id": "JqQqd37QSp_8",
        "outputId": "ca8fa72b-4a60-4886-e264-76d7459de738"
      },
      "source": [
        "b"
      ],
      "execution_count": null,
      "outputs": [
        {
          "output_type": "execute_result",
          "data": {
            "text/plain": [
              "2"
            ]
          },
          "metadata": {
            "tags": []
          },
          "execution_count": 3
        }
      ]
    },
    {
      "cell_type": "code",
      "metadata": {
        "colab": {
          "base_uri": "https://localhost:8080/"
        },
        "id": "mGczlwtETLFe",
        "outputId": "899d3c86-a12c-4984-e901-7f331ae4cc70"
      },
      "source": [
        "print(b)"
      ],
      "execution_count": null,
      "outputs": [
        {
          "output_type": "stream",
          "text": [
            "2\n"
          ],
          "name": "stdout"
        }
      ]
    },
    {
      "cell_type": "code",
      "metadata": {
        "id": "kB2LTboFTOtB"
      },
      "source": [
        "a=b"
      ],
      "execution_count": null,
      "outputs": []
    },
    {
      "cell_type": "code",
      "metadata": {
        "id": "IX8Zvwz7TZs1",
        "colab": {
          "base_uri": "https://localhost:8080/"
        },
        "outputId": "3601592c-1bb7-408d-fbf3-941c32c113d6"
      },
      "source": [
        "print(a+b)"
      ],
      "execution_count": null,
      "outputs": [
        {
          "output_type": "stream",
          "text": [
            "4\n"
          ],
          "name": "stdout"
        }
      ]
    },
    {
      "cell_type": "code",
      "metadata": {
        "id": "fNzLQCaqTeZS",
        "colab": {
          "base_uri": "https://localhost:8080/"
        },
        "outputId": "d338df2d-8308-44a9-f965-6aac05db1b4f"
      },
      "source": [
        "print(\"sum is \",a+b)"
      ],
      "execution_count": null,
      "outputs": [
        {
          "output_type": "stream",
          "text": [
            "sum is  4\n"
          ],
          "name": "stdout"
        }
      ]
    },
    {
      "cell_type": "code",
      "metadata": {
        "id": "BS_cOWoWTupx"
      },
      "source": [
        "a,b=b,a"
      ],
      "execution_count": null,
      "outputs": []
    },
    {
      "cell_type": "code",
      "metadata": {
        "id": "viMun9dXTyAA",
        "colab": {
          "base_uri": "https://localhost:8080/"
        },
        "outputId": "e1cc703e-a086-40ac-98bc-9fae5ab28776"
      },
      "source": [
        "a,b"
      ],
      "execution_count": null,
      "outputs": [
        {
          "output_type": "execute_result",
          "data": {
            "text/plain": [
              "(2, 2)"
            ]
          },
          "metadata": {
            "tags": []
          },
          "execution_count": 10
        }
      ]
    },
    {
      "cell_type": "code",
      "metadata": {
        "id": "HHW7MuYHT3Ru",
        "colab": {
          "base_uri": "https://localhost:8080/"
        },
        "outputId": "677cdb05-26ee-4c8b-9733-050aff0d7c89"
      },
      "source": [
        "10+20"
      ],
      "execution_count": null,
      "outputs": [
        {
          "output_type": "execute_result",
          "data": {
            "text/plain": [
              "30"
            ]
          },
          "metadata": {
            "tags": []
          },
          "execution_count": 11
        }
      ]
    },
    {
      "cell_type": "code",
      "metadata": {
        "id": "JGdNz-3mT8V9"
      },
      "source": [
        "x='cse'"
      ],
      "execution_count": null,
      "outputs": []
    },
    {
      "cell_type": "code",
      "metadata": {
        "id": "2SlIXI0hT_S7",
        "colab": {
          "base_uri": "https://localhost:8080/",
          "height": 35
        },
        "outputId": "11fd0eb0-24a5-4376-b808-824cfcdbec9f"
      },
      "source": [
        "x"
      ],
      "execution_count": null,
      "outputs": [
        {
          "output_type": "execute_result",
          "data": {
            "application/vnd.google.colaboratory.intrinsic+json": {
              "type": "string"
            },
            "text/plain": [
              "'cse'"
            ]
          },
          "metadata": {
            "tags": []
          },
          "execution_count": 15
        }
      ]
    },
    {
      "cell_type": "code",
      "metadata": {
        "id": "QDpEc5f6UAWb",
        "colab": {
          "base_uri": "https://localhost:8080/",
          "height": 35
        },
        "outputId": "25a7df8f-c3ef-44c7-f89c-f9594501be6e"
      },
      "source": [
        "x+\"1\""
      ],
      "execution_count": null,
      "outputs": [
        {
          "output_type": "execute_result",
          "data": {
            "application/vnd.google.colaboratory.intrinsic+json": {
              "type": "string"
            },
            "text/plain": [
              "'cse1'"
            ]
          },
          "metadata": {
            "tags": []
          },
          "execution_count": 16
        }
      ]
    },
    {
      "cell_type": "code",
      "metadata": {
        "id": "yllv3ZFiUGW2",
        "colab": {
          "base_uri": "https://localhost:8080/"
        },
        "outputId": "a92639e7-de65-4ed8-a5cd-9ac53e3be186"
      },
      "source": [
        "type(a)"
      ],
      "execution_count": null,
      "outputs": [
        {
          "output_type": "execute_result",
          "data": {
            "text/plain": [
              "int"
            ]
          },
          "metadata": {
            "tags": []
          },
          "execution_count": 17
        }
      ]
    },
    {
      "cell_type": "code",
      "metadata": {
        "id": "LCzQ_70_UJlJ"
      },
      "source": [
        "name=\"cse\""
      ],
      "execution_count": null,
      "outputs": []
    },
    {
      "cell_type": "code",
      "metadata": {
        "id": "JMhlXjjPUMK0",
        "colab": {
          "base_uri": "https://localhost:8080/"
        },
        "outputId": "9fdc8d75-f77b-4ddf-afdf-c4e67ec82ea1"
      },
      "source": [
        "type(name)"
      ],
      "execution_count": null,
      "outputs": [
        {
          "output_type": "execute_result",
          "data": {
            "text/plain": [
              "str"
            ]
          },
          "metadata": {
            "tags": []
          },
          "execution_count": 20
        }
      ]
    },
    {
      "cell_type": "code",
      "metadata": {
        "id": "Oj6h87D8UOJ_"
      },
      "source": [
        "p,q,r=11,1.2,'cse'"
      ],
      "execution_count": null,
      "outputs": []
    },
    {
      "cell_type": "code",
      "metadata": {
        "id": "mSgUubGRUXQM",
        "colab": {
          "base_uri": "https://localhost:8080/"
        },
        "outputId": "2a42cd93-e43c-403b-87d6-c9e3b6780213"
      },
      "source": [
        "p"
      ],
      "execution_count": null,
      "outputs": [
        {
          "output_type": "execute_result",
          "data": {
            "text/plain": [
              "11"
            ]
          },
          "metadata": {
            "tags": []
          },
          "execution_count": 24
        }
      ]
    },
    {
      "cell_type": "code",
      "metadata": {
        "id": "9k2FArQlUYbz",
        "colab": {
          "base_uri": "https://localhost:8080/"
        },
        "outputId": "1b9874b4-4134-4d8d-eccb-0d325ed50ae4"
      },
      "source": [
        "q"
      ],
      "execution_count": null,
      "outputs": [
        {
          "output_type": "execute_result",
          "data": {
            "text/plain": [
              "1.2"
            ]
          },
          "metadata": {
            "tags": []
          },
          "execution_count": 25
        }
      ]
    },
    {
      "cell_type": "code",
      "metadata": {
        "id": "XXGsSkOPUeFC",
        "colab": {
          "base_uri": "https://localhost:8080/",
          "height": 35
        },
        "outputId": "035ca255-c591-4635-9569-e63a8d10dad1"
      },
      "source": [
        "r"
      ],
      "execution_count": null,
      "outputs": [
        {
          "output_type": "execute_result",
          "data": {
            "application/vnd.google.colaboratory.intrinsic+json": {
              "type": "string"
            },
            "text/plain": [
              "'cse'"
            ]
          },
          "metadata": {
            "tags": []
          },
          "execution_count": 26
        }
      ]
    },
    {
      "cell_type": "code",
      "metadata": {
        "id": "amBXUmEWYzRM",
        "colab": {
          "base_uri": "https://localhost:8080/",
          "height": 35
        },
        "outputId": "c1c5d718-0930-472b-8b04-b48a305819d0"
      },
      "source": [
        "'CSE'*2"
      ],
      "execution_count": null,
      "outputs": [
        {
          "output_type": "execute_result",
          "data": {
            "application/vnd.google.colaboratory.intrinsic+json": {
              "type": "string"
            },
            "text/plain": [
              "'CSECSE'"
            ]
          },
          "metadata": {
            "tags": []
          },
          "execution_count": 28
        }
      ]
    },
    {
      "cell_type": "markdown",
      "metadata": {
        "id": "3QmAPyh1aSzF"
      },
      "source": [
        "*script mode"
      ]
    },
    {
      "cell_type": "code",
      "metadata": {
        "colab": {
          "base_uri": "https://localhost:8080/"
        },
        "id": "j2b1reSQbiTU",
        "outputId": "7173f026-a555-4909-d6d4-77b713982bdb"
      },
      "source": [
        "a=int(input(\"enter a value\"))\n",
        "b=int(input(\"enter b value\"))\n",
        "C=a+b\n",
        "print(\"sum of a=\",a,\"and b=\",b,\"is\",C)\n",
        "X=10\n",
        "Y=20\n",
        "Z=X+Y\n",
        "print(\"sum of{} and {} is:{}\".format(X,Y,Z))"
      ],
      "execution_count": null,
      "outputs": [
        {
          "output_type": "stream",
          "text": [
            "enter a value1\n",
            "enter b value2\n",
            "sum of a= 1 and b= 2 is 3\n",
            "sum of10 and 20 is:30\n"
          ],
          "name": "stdout"
        }
      ]
    },
    {
      "cell_type": "markdown",
      "metadata": {
        "id": "ugd4DNRAZzOF"
      },
      "source": [
        "**b) Write a program to purposefully raise Indentation Error and Correct it**"
      ]
    },
    {
      "cell_type": "code",
      "metadata": {
        "colab": {
          "base_uri": "https://localhost:8080/",
          "height": 166
        },
        "id": "swJgRIpYZ6nH",
        "outputId": "f8c0deb8-6adc-4a6f-8072-5131e9ec5165"
      },
      "source": [
        "print(\"welcome to python\")\n",
        "  a=10\n",
        "  b=20\n",
        "print (\"a\",a,\"b\",b)"
      ],
      "execution_count": null,
      "outputs": [
        {
          "output_type": "error",
          "ename": "IndentationError",
          "evalue": "ignored",
          "traceback": [
            "\u001b[0;36m  File \u001b[0;32m\"<ipython-input-36-e36f5b055319>\"\u001b[0;36m, line \u001b[0;32m2\u001b[0m\n\u001b[0;31m    a=10\u001b[0m\n\u001b[0m    ^\u001b[0m\n\u001b[0;31mIndentationError\u001b[0m\u001b[0;31m:\u001b[0m unexpected indent\n"
          ]
        }
      ]
    },
    {
      "cell_type": "markdown",
      "metadata": {
        "id": "fe6ZhQQoeOp9"
      },
      "source": [
        "*correction"
      ]
    },
    {
      "cell_type": "code",
      "metadata": {
        "colab": {
          "base_uri": "https://localhost:8080/"
        },
        "id": "iEyUEHAmeVIA",
        "outputId": "0e5585c0-ab83-4e2a-a7c5-ff2a6cbe2567"
      },
      "source": [
        " print(\"welcome to python\")\n",
        "a=10\n",
        "b=20\n",
        "print (\"a\",a,\"b\",b)"
      ],
      "execution_count": null,
      "outputs": [
        {
          "output_type": "stream",
          "text": [
            "welcome to python\n",
            "a 10 b 20\n"
          ],
          "name": "stdout"
        }
      ]
    },
    {
      "cell_type": "code",
      "metadata": {
        "colab": {
          "base_uri": "https://localhost:8080/",
          "height": 166
        },
        "id": "6oSeNBlDee7C",
        "outputId": "e60e0cba-63bf-4d60-deba-851647e77279"
      },
      "source": [
        "print(\"welcome to python\")\n",
        "a=10\n",
        "b=20\n",
        "print (\"a\",a,\"b\",b)\n",
        "if a<b:\n",
        "print(\"a is big\")\n",
        "else:\n",
        "print(\"b is big\")"
      ],
      "execution_count": null,
      "outputs": [
        {
          "output_type": "error",
          "ename": "IndentationError",
          "evalue": "ignored",
          "traceback": [
            "\u001b[0;36m  File \u001b[0;32m\"<ipython-input-39-e17c6556e284>\"\u001b[0;36m, line \u001b[0;32m6\u001b[0m\n\u001b[0;31m    print(\"a is big\")\u001b[0m\n\u001b[0m        ^\u001b[0m\n\u001b[0;31mIndentationError\u001b[0m\u001b[0;31m:\u001b[0m expected an indented block\n"
          ]
        }
      ]
    },
    {
      "cell_type": "markdown",
      "metadata": {
        "id": "Bxxxli0QfVML"
      },
      "source": [
        "*correction"
      ]
    },
    {
      "cell_type": "code",
      "metadata": {
        "colab": {
          "base_uri": "https://localhost:8080/"
        },
        "id": "5RYH9DxQfCTv",
        "outputId": "b050af7e-e7e5-49a6-d5f4-64008acb5409"
      },
      "source": [
        " print(\"welcome to python\")\n",
        "a=10\n",
        "b=20\n",
        "print (\"a\",a,\"b\",b)\n",
        "if a<b:\n",
        "  print(\"a is big\")\n",
        "else:\n",
        "  print(\"b is big\")"
      ],
      "execution_count": null,
      "outputs": [
        {
          "output_type": "stream",
          "text": [
            "welcome to python\n",
            "a 10 b 20\n",
            "a is big\n"
          ],
          "name": "stdout"
        }
      ]
    },
    {
      "cell_type": "markdown",
      "metadata": {
        "id": "Sr7C0VD1-xI-"
      },
      "source": [
        "#***exercise-2:operations***"
      ]
    },
    {
      "cell_type": "markdown",
      "metadata": {
        "id": "y5u8dJTT_EI0"
      },
      "source": [
        "**a) Write a program to compute distance between two points taking input from the user(Pythagorean \n",
        "Theorem)** "
      ]
    },
    {
      "cell_type": "code",
      "metadata": {
        "colab": {
          "base_uri": "https://localhost:8080/"
        },
        "id": "TWWMEz3fAYsO",
        "outputId": "47c1f99e-5db6-415e-a510-7ae67250f2e5"
      },
      "source": [
        "import math\n",
        "x1=int(input(\"enter x1 value\"))\n",
        "x2=int(input(\"enter x2 value\"))\n",
        "y1=int(input(\"enter y1 value\"))\n",
        "y2=int(input(\"enter y2 value\"))\n",
        "\n",
        "distance=math.sqrt((x2-x1)**2+(y2-y1)**2)\n",
        "print(\"distance between two points is:\",distance)\n"
      ],
      "execution_count": null,
      "outputs": [
        {
          "output_type": "stream",
          "text": [
            "enter x1 value1\n",
            "enter x2 value2\n",
            "enter y1 value5\n",
            "enter y2 value3\n"
          ],
          "name": "stdout"
        }
      ]
    },
    {
      "cell_type": "markdown",
      "metadata": {
        "id": "WhWFZOTsBw3B"
      },
      "source": [
        "**b) Write a program add.py that takes 2 numbers as command line arguments and prints its sum**"
      ]
    },
    {
      "cell_type": "code",
      "metadata": {
        "id": "GyFebUGOCEgr"
      },
      "source": [
        "import sys\n",
        "a=int(sys.argv[1])\n",
        "b=int(sys.argv[2])\n",
        "sum=a+b\n",
        "print(\"sum is\",sum)"
      ],
      "execution_count": null,
      "outputs": []
    },
    {
      "cell_type": "markdown",
      "metadata": {
        "id": "8GBuHCF8NU84"
      },
      "source": [
        "#***Exercise - 3 :Control Flow***"
      ]
    },
    {
      "cell_type": "markdown",
      "metadata": {
        "id": "T-88JJybNbzL"
      },
      "source": [
        "**a) Write a Program for checking whether the given number is an even number or not**"
      ]
    },
    {
      "cell_type": "code",
      "metadata": {
        "id": "C1xWavIHNnnQ",
        "colab": {
          "base_uri": "https://localhost:8080/"
        },
        "outputId": "a19e62f5-c5e9-464d-e11a-1430d6a6b24c"
      },
      "source": [
        "n=int(input(\"enter number \"))\n",
        "if (n%2)==0:\n",
        "    print(\"given number is even\")\n",
        "else:\n",
        "    print(\"given number is odd\")"
      ],
      "execution_count": null,
      "outputs": [
        {
          "output_type": "stream",
          "text": [
            "enter number 5\n",
            "given number is odd\n"
          ],
          "name": "stdout"
        }
      ]
    },
    {
      "cell_type": "markdown",
      "metadata": {
        "id": "Rshy14lpPETU"
      },
      "source": [
        "**b) Using a for loop, write a program that prints out the decimal equivalents of 1/2, 1/3, 1/4, . . .1/10**"
      ]
    },
    {
      "cell_type": "code",
      "metadata": {
        "id": "jhwSVMlpPaWH",
        "colab": {
          "base_uri": "https://localhost:8080/"
        },
        "outputId": "8566f08f-c9c6-49e2-8664-fa23d3986ebe"
      },
      "source": [
        "n=int(input(\"enter number\"))\n",
        "for i in range(2,n):\n",
        "  d=1/i\n",
        "  print(\"1/\"+str(i),\"=\",d)"
      ],
      "execution_count": null,
      "outputs": [
        {
          "output_type": "stream",
          "text": [
            "enter number9\n",
            "1/2 = 0.5\n",
            "1/3 = 0.3333333333333333\n",
            "1/4 = 0.25\n",
            "1/5 = 0.2\n",
            "1/6 = 0.16666666666666666\n",
            "1/7 = 0.14285714285714285\n",
            "1/8 = 0.125\n"
          ],
          "name": "stdout"
        }
      ]
    },
    {
      "cell_type": "markdown",
      "metadata": {
        "id": "9ytkW_T0RDAt"
      },
      "source": [
        "**c) Write a program using a for loop that loops over a sequence. What is sequence?**"
      ]
    },
    {
      "cell_type": "code",
      "metadata": {
        "id": "QPpB6hrIRZcr",
        "colab": {
          "base_uri": "https://localhost:8080/"
        },
        "outputId": "21b2c4c7-b448-4e68-d280-df77782798ba"
      },
      "source": [
        "array=[\"abc\",4,4.2,True,'c',2]\n",
        "print(\"given array is\",array)\n",
        "for i in array:\n",
        "  print(i)"
      ],
      "execution_count": null,
      "outputs": [
        {
          "output_type": "stream",
          "text": [
            "given array is ['abc', 4, 4.2, True, 'c', 2]\n",
            "abc\n",
            "4\n",
            "4.2\n",
            "True\n",
            "c\n",
            "2\n"
          ],
          "name": "stdout"
        }
      ]
    },
    {
      "cell_type": "markdown",
      "metadata": {
        "id": "4AlFQ3I-Szhi"
      },
      "source": [
        "**d) Write a program using a while loop that asks the user for a number, and prints a countdownfrom \n",
        "that number to zero.**\n"
      ]
    },
    {
      "cell_type": "code",
      "metadata": {
        "id": "lZ_uo01BS3SK",
        "colab": {
          "base_uri": "https://localhost:8080/"
        },
        "outputId": "001872d8-3315-4fe7-e0fb-bfc0cd03e664"
      },
      "source": [
        "n=int(input(\"enter number :\"))\n",
        "while(n>=0):\n",
        "  print(n)\n",
        "  n-=1"
      ],
      "execution_count": null,
      "outputs": [
        {
          "output_type": "stream",
          "text": [
            "enter number :9\n",
            "9\n",
            "8\n",
            "7\n",
            "6\n",
            "5\n",
            "4\n",
            "3\n",
            "2\n",
            "1\n",
            "0\n"
          ],
          "name": "stdout"
        }
      ]
    },
    {
      "cell_type": "markdown",
      "metadata": {
        "id": "5pqEk8YiVJx5"
      },
      "source": [
        "#***Exercise -4 : Control Flow - Continued***"
      ]
    },
    {
      "cell_type": "markdown",
      "metadata": {
        "id": "U6LViKVSVeXw"
      },
      "source": [
        "**a) Find the sum of all the primes below two million.**"
      ]
    },
    {
      "cell_type": "code",
      "metadata": {
        "id": "oz0zGO2gVs6C",
        "colab": {
          "base_uri": "https://localhost:8080/"
        },
        "outputId": "778142f7-a8c7-4e6c-8bd4-2e2dee008ab8"
      },
      "source": [
        "n=int(input(\"enter ending number\"))\n",
        "st=\" \"\n",
        "sum=0\n",
        "for i in range(2,n):\n",
        "   state=True\n",
        "   for j in range(2,i):\n",
        "          if(i%j==0):\n",
        "             state=False\n",
        "             break;\n",
        "   if(state==True):\n",
        "      st+=\"  \"+str(i)\n",
        "      sum+=i\n",
        "print(\"prime numbers is:\")\n",
        "print(st)\n",
        "print(\"sum of prime number is\",sum)"
      ],
      "execution_count": null,
      "outputs": [
        {
          "output_type": "stream",
          "text": [
            "enter ending number4\n",
            "prime numbers is:\n",
            "   2  3\n",
            "sum of prime number is 5\n"
          ],
          "name": "stdout"
        }
      ]
    },
    {
      "cell_type": "markdown",
      "metadata": {
        "id": "RH3AGZOtbwfw"
      },
      "source": [
        "**Each new term in the Fibonacci sequence is \n",
        "generated by adding the previous two terms. Bystarting with 1 and 2, the first 10 terms will be:\n",
        "1, 2, 3, 5, 8, 13, 21, 34, 55, 89, ..**"
      ]
    },
    {
      "cell_type": "code",
      "metadata": {
        "id": "lXyX0HBvcged",
        "colab": {
          "base_uri": "https://localhost:8080/"
        },
        "outputId": "d5999116-e1b1-4e2d-aba4-a8058282525f"
      },
      "source": [
        " \n",
        "n=int(input(\"enter number: \"))\n",
        "a=0\n",
        "b=1\n",
        "c=a+b\n",
        "while(c<=n):\n",
        "   print(c,sep='\\n')\n",
        "   a=b\n",
        "   b=c\n",
        "   c=a+b"
      ],
      "execution_count": null,
      "outputs": [
        {
          "output_type": "stream",
          "text": [
            "enter number: 7\n",
            "1\n",
            "2\n",
            "3\n",
            "5\n"
          ],
          "name": "stdout"
        }
      ]
    },
    {
      "cell_type": "markdown",
      "metadata": {
        "id": "NGhQbbKQfhMz"
      },
      "source": [
        "**b) By considering the terms in the Fibonacci sequence whose values do not exceed four million,find \n",
        "the sum of the even-valued terms**"
      ]
    },
    {
      "cell_type": "code",
      "metadata": {
        "id": "e4kjzC2qYkSV",
        "colab": {
          "base_uri": "https://localhost:8080/"
        },
        "outputId": "4bd1441d-fa82-4032-f754-621e599036f5"
      },
      "source": [
        "n=int(input(\"enter number\"))\n",
        "a=0\n",
        "b=1\n",
        "c=a+b\n",
        "sum=0\n",
        "print(\"sum of even valued terms:\",end='')\n",
        "while c<=n:\n",
        "   if(c%2==0):\n",
        "      print(c,end=' ')\n",
        "      sum+=c\n",
        "   a=b\n",
        "   b=c\n",
        "   c=a+b\n",
        "print(\"\\nsum of fibonacci sequence is\",sum)"
      ],
      "execution_count": null,
      "outputs": [
        {
          "output_type": "stream",
          "text": [
            "enter number4000000\n",
            "sum of even valued terms:2 8 34 144 610 2584 10946 46368 196418 832040 3524578 \n",
            "sum of fibonacci sequence is 4613732\n"
          ],
          "name": "stdout"
        }
      ]
    },
    {
      "cell_type": "markdown",
      "metadata": {
        "id": "dcx0dY_YZnSk"
      },
      "source": [
        "#***Exercise - 5 : DS***"
      ]
    },
    {
      "cell_type": "markdown",
      "metadata": {
        "id": "MtAfsPiJaBhA"
      },
      "source": [
        "**a) Write a program to count the numbers of characters in the string and store them in adictionary data \n",
        "structure**\n"
      ]
    },
    {
      "cell_type": "code",
      "metadata": {
        "id": "E9WUGMlchFjD",
        "colab": {
          "base_uri": "https://localhost:8080/"
        },
        "outputId": "a6cf12e3-fba6-4636-c92b-167b1d15e6f5"
      },
      "source": [
        "name=input(\"enter name\")\n",
        "dic={}\n",
        "for i in name:\n",
        "  keys=dic.keys()\n",
        "  if i in keys:\n",
        "    dic[i]=dic[i]+1\n",
        "  else:\n",
        "    dic[i]=1\n",
        "print(\"dictionery is\",dic)"
      ],
      "execution_count": null,
      "outputs": [
        {
          "output_type": "stream",
          "text": [
            "enter namesai durga devi\n",
            "dictionery is {'s': 1, 'a': 2, 'i': 2, ' ': 2, 'd': 2, 'u': 1, 'r': 1, 'g': 1, 'e': 1, 'v': 1}\n"
          ],
          "name": "stdout"
        }
      ]
    },
    {
      "cell_type": "markdown",
      "metadata": {
        "id": "wAJULT_jm0K-"
      },
      "source": [
        "**b) Write a program to use split and join methods in the string and trace a birthday with adictionary \n",
        "data structure.**"
      ]
    },
    {
      "cell_type": "code",
      "metadata": {
        "colab": {
          "base_uri": "https://localhost:8080/"
        },
        "id": "yivFA5u9m60I",
        "outputId": "bd7aea8b-2ed9-4a83-c7e5-77177388e2e6"
      },
      "source": [
        "dob={\"parnika\":\"07-nov-2000\",\"shannu\":\"20-1-2021\"}\n",
        "name=input(\"which person date of birth you want\")\n",
        "l=name.split()\n",
        "for i in l:\n",
        "   if i in dob.keys():\n",
        "     pers=i\n",
        "print(\" \".join([pers,\"birthday is\",dob[pers]]))\n"
      ],
      "execution_count": null,
      "outputs": [
        {
          "output_type": "stream",
          "text": [
            "which person date of birth you wantshannu\n",
            "shannu birthday is 20-1-2021\n"
          ],
          "name": "stdout"
        }
      ]
    },
    {
      "cell_type": "markdown",
      "metadata": {
        "id": "sO7p46rctrOZ"
      },
      "source": [
        "#***Exercise - 6: DS - Continued***"
      ]
    },
    {
      "cell_type": "markdown",
      "metadata": {
        "id": "yz8iO1Rft7RM"
      },
      "source": [
        "**a) Write a program combinelists that combines these lists into a dictionary**"
      ]
    },
    {
      "cell_type": "code",
      "metadata": {
        "colab": {
          "base_uri": "https://localhost:8080/"
        },
        "id": "V7vJ7DvMuK_2",
        "outputId": "18c1c757-49b4-4de8-8c01-38a194473092"
      },
      "source": [
        "sub={\"DAA\",\"OS\",\"DBMS\",\"P&s\",\"PPL\",\"SE\"}\n",
        "marks={92,96,98,89,90,94}\n",
        "print(\"given lists are:\")\n",
        "print(\"subjects names:\",sub)\n",
        "print(\"marks :\",marks)\n",
        "dic=dict(zip(sub,marks))\n",
        "print(\"\\ndictionary\",dic)"
      ],
      "execution_count": null,
      "outputs": [
        {
          "output_type": "stream",
          "text": [
            "given lists are:\n",
            "subjects names: {'DAA', 'OS', 'SE', 'DBMS', 'PPL', 'P&s'}\n",
            "marks : {96, 98, 89, 90, 92, 94}\n",
            "\n",
            "dictionary {'DAA': 96, 'OS': 98, 'SE': 89, 'DBMS': 90, 'PPL': 92, 'P&s': 94}\n"
          ],
          "name": "stdout"
        }
      ]
    },
    {
      "cell_type": "markdown",
      "metadata": {
        "id": "GVwIHy1_w3aZ"
      },
      "source": [
        "**b) Write a program to count frequency of characters in a given file. Can you use characterfrequency to \n",
        "tell whether the given file is a Python program file, C program file or a text file?**"
      ]
    },
    {
      "cell_type": "code",
      "metadata": {
        "id": "ZpA067uRw7fk",
        "colab": {
          "base_uri": "https://localhost:8080/"
        },
        "outputId": "9081d468-68ba-4aa7-e802-c8e5604b0b59"
      },
      "source": [
        "f=open(\"abc.txt\",\"w\")\n",
        "f.write(\"welcome to python Programming\")\n",
        "f.close()\n",
        "filetypes={'.py','.c','.txt'}\n",
        "fn=input(\"enter file name\")\n",
        "f=open(fn,\"r\")\n",
        "count=dict()\n",
        "print(\"given file is:\",end=\" \")\n",
        "for ft in filetypes:\n",
        "  if(ft in fn):\n",
        "    if(ft=='.py'):\n",
        "      print(\"python file\")\n",
        "    elif(ft=='.c'):\n",
        "      print(\"c file\")\n",
        "    elif(ft=='.txt'):\n",
        "      print(\"text file\")\n",
        "for line in f:\n",
        "  for ch in line:\n",
        "    if ch in count:\n",
        "      count[ch]=count[ch]+1\n",
        "    else:\n",
        "      count[ch]=1\n",
        "print(count)\n",
        "f.close()\n",
        "  \n"
      ],
      "execution_count": null,
      "outputs": [
        {
          "output_type": "stream",
          "text": [
            "enter file nameabc.txt\n",
            "given file is: text file\n",
            "{'w': 1, 'e': 2, 'l': 1, 'c': 1, 'o': 4, 'm': 3, ' ': 3, 't': 2, 'p': 1, 'y': 1, 'h': 1, 'n': 2, 'P': 1, 'r': 2, 'g': 2, 'a': 1, 'i': 1}\n"
          ],
          "name": "stdout"
        }
      ]
    },
    {
      "cell_type": "markdown",
      "metadata": {
        "id": "b2vLyFd2_sUC"
      },
      "source": [
        "#***Exercise - 7: Files***"
      ]
    },
    {
      "cell_type": "markdown",
      "metadata": {
        "id": "2TUloz16_yaU"
      },
      "source": [
        "**a) Write a program to print each line of a file in reverse order.**"
      ]
    },
    {
      "cell_type": "code",
      "metadata": {
        "id": "f9hrLRsv_6QB",
        "colab": {
          "base_uri": "https://localhost:8080/"
        },
        "outputId": "abb00ac6-b214-4a0c-a61e-df07002626d2"
      },
      "source": [
        "f=open(\"abc.txt\",\"w\")\n",
        "f.write(\"welcome to python Programming\")\n",
        "f.close()\n",
        "obj=open(\"abc.txt\",\"r\")\n",
        "if obj:\n",
        "  st=obj.read( )\n",
        "  print(\"file content is\\n\",st)\n",
        "obj.close()\n",
        "print()\n",
        "lines=st.split('\\n')\n",
        "for ln in lines:\n",
        "  i=len(ln)-1\n",
        "  while(i>=0):\n",
        "    print(ln[i],end=' ')\n",
        "    i=i-1\n",
        "  print()"
      ],
      "execution_count": null,
      "outputs": [
        {
          "output_type": "stream",
          "text": [
            "file content is\n",
            " welcome to python Programming\n",
            "\n",
            "g n i m m a r g o r P   n o h t y p   o t   e m o c l e w \n"
          ],
          "name": "stdout"
        }
      ]
    },
    {
      "cell_type": "markdown",
      "metadata": {
        "id": "oQ_jKjgWHgRL"
      },
      "source": [
        "**b) Write a program to compute the number of characters, words and lines in a file.**"
      ]
    },
    {
      "cell_type": "code",
      "metadata": {
        "colab": {
          "base_uri": "https://localhost:8080/"
        },
        "id": "CPav7QndHmi2",
        "outputId": "0403195d-ef0f-4375-b436-edc093b263d8"
      },
      "source": [
        "f=open(\"abc.txt\",\"w\")\n",
        "lst=[\"welcome \",\"to \",\"python \",\"programming \",\"\\n\",\"swarnandra \",\"clg \",\"of \",\"engineering \",\"and \",\"technology \"]\n",
        "f.writelines(lst)\n",
        "f.close()\n",
        "file=open(\"abc.txt\",\"r\")\n",
        "nl=nw=nc=0\n",
        "print(\"file content:\\n\")\n",
        "for line in file:\n",
        "  ln=line.strip(\"\\n\")\n",
        "  print(ln)\n",
        "  words=ln.split()\n",
        "  print(words)\n",
        "  nl+=1\n",
        "  nw+=len(words)\n",
        "  nc+=len(line)\n",
        "file.close()\n",
        "print(\"\\n no.of lines:\",nl,\"words:\",nw,\"characters:\",nc)"
      ],
      "execution_count": null,
      "outputs": [
        {
          "output_type": "stream",
          "text": [
            "file content:\n",
            "\n",
            "welcome to python programming \n",
            "['welcome', 'to', 'python', 'programming']\n",
            "swarnandra clg of engineering and technology \n",
            "['swarnandra', 'clg', 'of', 'engineering', 'and', 'technology']\n",
            "\n",
            " no.of lines: 2 words: 10 characters: 76\n"
          ],
          "name": "stdout"
        }
      ]
    },
    {
      "cell_type": "markdown",
      "metadata": {
        "id": "-wlg2SBQLwv5"
      },
      "source": [
        "#***Exercise - 8: Functions***"
      ]
    },
    {
      "cell_type": "markdown",
      "metadata": {
        "id": "-qYteeiKL3Mc"
      },
      "source": [
        "**a) Write a function ball collide that takes two balls as parameters and computes if they arecolliding. \n",
        "Your function should return a Boolean representing whether or not the balls arecolliding.\n",
        "Hint: Represent a ball on a plane as a tuple of (x, y, r), r being the radius\n",
        "If (distance between two balls centers) <= (sum of their radii) then (they are colliding)**\n"
      ]
    },
    {
      "cell_type": "code",
      "metadata": {
        "colab": {
          "base_uri": "https://localhost:8080/"
        },
        "id": "Z0eIev1dMCDZ",
        "outputId": "07a0c2b3-fc0e-4db5-ddf6-412c24ad8dd5"
      },
      "source": [
        "import math\n",
        "def collide(ball_tup1,ball_tup2):\n",
        "   x1,y1,r1=ball_tup1\n",
        "   x2,y2,r2=ball_tup2\n",
        "   print(\"ball-01\",ball_tup1)\n",
        "   print(\"ball-02\",ball_tup2)\n",
        "   d=math.sqrt((x2-x1)**2+(y2-y1)**2)\n",
        "   print(\"centriod of distance of two balls :\",d)\n",
        "   print(\"sum of radius of ball-1 and ball-2 is:{}+{}={}\".format(r1,r2,r1+r2))\n",
        "   if(d<=r1+r2):\n",
        "     return True\n",
        "   else:\n",
        "     return False\n",
        "b1=(-2,-4,3)\n",
        "b2=(4,6,3)\n",
        "if collide(b1,b2):\n",
        "  print(\"balls are colliding...!\")\n",
        "else:\n",
        "  print(\"balls are not colliding...!\")\n"
      ],
      "execution_count": null,
      "outputs": [
        {
          "output_type": "stream",
          "text": [
            "ball-01 (-2, -4, 3)\n",
            "ball-02 (4, 6, 3)\n",
            "centriod of distance of two balls : 11.661903789690601\n",
            "sum of radius of ball-1 and ball-2 is:3+3=6\n",
            "balls are not colliding...!\n"
          ],
          "name": "stdout"
        }
      ]
    },
    {
      "cell_type": "markdown",
      "metadata": {
        "id": "mBNx5MQ8Othf"
      },
      "source": [
        "**b) Find mean, median, mode for the given set of numbers in a list.**"
      ]
    },
    {
      "cell_type": "code",
      "metadata": {
        "colab": {
          "base_uri": "https://localhost:8080/"
        },
        "id": "_NzApGdGO9vq",
        "outputId": "7351ecc8-3ad3-46fd-c472-2fdd4bfeca2d"
      },
      "source": [
        "def list_mean(num_list):\n",
        "  return sum(num_list)/len(num_list)\n",
        "def list_median(num_list):\n",
        "  num_list.sort()\n",
        "  n=len(num_list)\n",
        "  mid=n//2\n",
        "  if(n%2==1):\n",
        "    return mid\n",
        "  else:\n",
        "    return (num_list[mid-1]+num_list[mid])/2\n",
        "def list_mode(num_list):\n",
        "  num_list.sort()\n",
        "  temp=[]\n",
        "  i=0\n",
        "  while i<len(num_list):\n",
        "    temp.append(num_list.count(num_list[i]))\n",
        "    i+=1\n",
        "  dic=dict(zip(num_list,temp))\n",
        "  mode={k for(k,v) in dic.items() if v==max(temp)}\n",
        "  return mode\n",
        "list=[1,1,2,2,23,4,5,3,6,2]\n",
        "print(\"given list is:\",list)\n",
        "print(\"mean of the given list is:\",list_mean(list) )\n",
        "print(\"median of the list is:\",list_median(list))\n",
        "print(\"mode of given list is:\",list_mode(list)) \n"
      ],
      "execution_count": null,
      "outputs": [
        {
          "output_type": "stream",
          "text": [
            "given list is: [1, 1, 2, 2, 23, 4, 5, 3, 6, 2]\n",
            "mean of the given list is: 4.9\n",
            "median of the list is: 2.5\n",
            "mode of given list is: {2}\n"
          ],
          "name": "stdout"
        }
      ]
    },
    {
      "cell_type": "markdown",
      "metadata": {
        "id": "cpzVlSAU24SN"
      },
      "source": [
        "#***Exercise - 9: Functions - Continued***"
      ]
    },
    {
      "cell_type": "markdown",
      "metadata": {
        "id": "JIzYQr4E2_FS"
      },
      "source": [
        "**a) Write a function nearly equal to test whether two strings are nearly equal. Two strings a and bare \n",
        "nearly equal when a can be generated by a single mutation on b.**"
      ]
    },
    {
      "cell_type": "code",
      "metadata": {
        "colab": {
          "base_uri": "https://localhost:8080/"
        },
        "id": "qLzWZW4i4u14",
        "outputId": "efc5b33d-7949-4fce-db36-47fc7b1cd0f1"
      },
      "source": [
        "def nearly_eq(str1,str2):\n",
        "  count=0\n",
        "  i=j=0\n",
        "  while(i<len(str1)and(j<len(str2))):\n",
        "    if len(str1)!=len(str2):\n",
        "      count+=1\n",
        "      if len(str1)>len(str2):\n",
        "        i+=1\n",
        "      elif len(str1)==len(str2):\n",
        "        pass\n",
        "      else:\n",
        "        i-=1\n",
        "    if count>1:\n",
        "       return False\n",
        "    i+=1\n",
        "    j+=1\n",
        "  if(count<2):\n",
        "    return True\n",
        "s1=input(\"enter string1:\")\n",
        "s2=input(\"enter string2:\")\n",
        "bin=nearly_eq(s1,s2)\n",
        "if(bin):\n",
        "  print(\"strings are nearly equal\")\n",
        "else:\n",
        "  print(\"strings are not equal\")     "
      ],
      "execution_count": null,
      "outputs": [
        {
          "output_type": "stream",
          "text": [
            "enter string1:scet\n",
            "enter string2:scet cse\n",
            "strings are not equal\n"
          ],
          "name": "stdout"
        }
      ]
    },
    {
      "cell_type": "markdown",
      "metadata": {
        "id": "iG3Qt6t06eyu"
      },
      "source": [
        "**b) Write a function dup to find all duplicates in the list.**"
      ]
    },
    {
      "cell_type": "code",
      "metadata": {
        "colab": {
          "base_uri": "https://localhost:8080/"
        },
        "id": "XylSoJL26ifQ",
        "outputId": "bf2a2013-7385-48c2-869a-61deac6a113c"
      },
      "source": [
        "def dups(numlist):\n",
        "  temp=[]\n",
        "  for i in numlist:\n",
        "    cnt=numlist.count(i)\n",
        "    if(cnt>1 and (i not in temp)):\n",
        "      temp.append(i)\n",
        "  print(\"duplicates in the list:\",temp)\n",
        "lst=[1,2,3,1,4,1,6,3,5,3,2]\n",
        "print(\"given elemnets is:\",lst)\n",
        "dups(lst)"
      ],
      "execution_count": null,
      "outputs": [
        {
          "output_type": "stream",
          "text": [
            "given elemnets is: [1, 2, 3, 1, 4, 1, 6, 3, 5, 3, 2]\n",
            "duplicates in the list: [1, 2, 3]\n"
          ],
          "name": "stdout"
        }
      ]
    },
    {
      "cell_type": "markdown",
      "metadata": {
        "id": "bVTqWy1M9Ndq"
      },
      "source": [
        "**c) Write a function unique to find all the unique elements of a list.**"
      ]
    },
    {
      "cell_type": "code",
      "metadata": {
        "colab": {
          "base_uri": "https://localhost:8080/"
        },
        "id": "zbnFkLfL9Qsk",
        "outputId": "d1e0f899-7b2e-4af0-a20c-1471a35277b1"
      },
      "source": [
        "def unique(numlist):\n",
        "  temp=[]\n",
        "  for i in numlist:\n",
        "    cnt=numlist.count(i)\n",
        "    if(cnt==1):\n",
        "      temp.append(i)\n",
        "  print(\"unique  in the list:\",temp)\n",
        "lst=[1,2,3,1,4,1,6,3,5,3,2]\n",
        "print(\"given elemnets is:\",lst)\n",
        "unique(lst)"
      ],
      "execution_count": null,
      "outputs": [
        {
          "output_type": "stream",
          "text": [
            "given elemnets is: [1, 2, 3, 1, 4, 1, 6, 3, 5, 3, 2]\n",
            "unique  in the list: [4, 6, 5]\n"
          ],
          "name": "stdout"
        }
      ]
    },
    {
      "cell_type": "markdown",
      "metadata": {
        "id": "SxmHiNgP97lP"
      },
      "source": [
        "#***Exercise - 10 : Functions - Problem Solving***"
      ]
    },
    {
      "cell_type": "markdown",
      "metadata": {
        "id": "G6EXRIea-DwC"
      },
      "source": [
        "**a) Write a function cumulative product to compute cumulative product of a list of numbers.**"
      ]
    },
    {
      "cell_type": "code",
      "metadata": {
        "colab": {
          "base_uri": "https://localhost:8080/"
        },
        "id": "CiqHnHa5-mKd",
        "outputId": "19b8be2e-25ac-4daf-8535-d3b9b9f4a0c5"
      },
      "source": [
        "def cum_prod(num_list):\n",
        "  prd=1\n",
        "  temp=[]\n",
        "  for i in num_list:\n",
        "    prd*=i\n",
        "    temp.append(prd)\n",
        "  return temp\n",
        "list=[1,3,2,4,2,5,6,3]\n",
        "print(\"given list is:\",list)\n",
        "print(\"cummulative product is:\",cum_prod(list))"
      ],
      "execution_count": null,
      "outputs": [
        {
          "output_type": "stream",
          "text": [
            "given list is: [1, 3, 2, 4, 2, 5, 6, 3]\n",
            "cummulative product is: [1, 3, 6, 24, 48, 240, 1440, 4320]\n"
          ],
          "name": "stdout"
        }
      ]
    },
    {
      "cell_type": "markdown",
      "metadata": {
        "id": "EIFmxsfS_zCV"
      },
      "source": [
        "**b) Write a function reverse to reverse a list. Without using the reverse function**"
      ]
    },
    {
      "cell_type": "code",
      "metadata": {
        "colab": {
          "base_uri": "https://localhost:8080/"
        },
        "id": "Yhm5xxLWADMd",
        "outputId": "c9574316-6a7d-4463-d3b6-e0ecc86f2f76"
      },
      "source": [
        "def reverse_list(num_list):\n",
        "  i=0\n",
        "  j=len(num_list)-1\n",
        "  while(i<=j):\n",
        "    temp=num_list[i]\n",
        "    num_list[i]=num_list[j]\n",
        "    num_list[j]=temp\n",
        "    j-=1\n",
        "    i+=1\n",
        "  return num_list\n",
        "list=[1,2,5,6,7,8]\n",
        "print(\"given list is:\",list)\n",
        "reverse_list(list)\n",
        "print(\"reverse of list is:\",list)  \n"
      ],
      "execution_count": null,
      "outputs": [
        {
          "output_type": "stream",
          "text": [
            "given list is: [1, 2, 5, 6, 7, 8]\n",
            "reverse of list is: [8, 7, 6, 5, 2, 1]\n"
          ],
          "name": "stdout"
        }
      ]
    },
    {
      "cell_type": "markdown",
      "metadata": {
        "id": "5mX6MS6eBY8d"
      },
      "source": [
        "**c) Write function to compute gcd, lcm of two numbers. Each function shouldn’t exceed one line**"
      ]
    },
    {
      "cell_type": "code",
      "metadata": {
        "colab": {
          "base_uri": "https://localhost:8080/"
        },
        "id": "DdNrkxzcCRw4",
        "outputId": "dba0af96-f2fc-4757-b34c-2b39744a39d3"
      },
      "source": [
        "gcd=lambda a,b:a if b==0 else gcd(a,a%b)\n",
        "lcm=lambda a,b:(a*b)/gcd(a,b)\n",
        "x=4\n",
        "y=24\n",
        "print(\"given number :\",x,y)\n",
        "print(\"gcd is:\",gcd(x,y))\n",
        "print(\"lcm is:\",lcm(x,y))"
      ],
      "execution_count": null,
      "outputs": [
        {
          "output_type": "stream",
          "text": [
            "given number : 4 24\n",
            "gcd is: 4\n",
            "lcm is: 24.0\n"
          ],
          "name": "stdout"
        }
      ]
    },
    {
      "cell_type": "markdown",
      "metadata": {
        "id": "aVJRn6YBDXjV"
      },
      "source": [
        "#***Exercise -11 : Multi-D Lists***"
      ]
    },
    {
      "cell_type": "markdown",
      "metadata": {
        "id": "7JxPPri6DeXa"
      },
      "source": [
        "**a) Write a program that defines a matrix and prints**"
      ]
    },
    {
      "cell_type": "code",
      "metadata": {
        "id": "Ehbe4VSsTFAq",
        "colab": {
          "base_uri": "https://localhost:8080/"
        },
        "outputId": "8835af4e-fb3b-4b24-cd7f-c95bb34674fc"
      },
      "source": [
        "matA=[[]]\n",
        "rows=int(input(\"enter no of rows\"))\n",
        "colms=int(input(\"enter colms\"))\n",
        "matA=[[int(input(\"enter  [%d,%d] value :\"%(i,j)))for j in range(colms)]for i in range(rows)]\n",
        "print(\"matrix is\\n\")\n",
        "\n",
        "for i in range(rows):\n",
        "  for j in range(colms):\n",
        "    print(matA[i][j],end=\"\\t\")\n",
        "  print()  "
      ],
      "execution_count": null,
      "outputs": [
        {
          "output_type": "stream",
          "text": [
            "enter no of rows3\n",
            "enter colms3\n",
            "enter  [0,0] value :1\n",
            "enter  [0,1] value :5\n",
            "enter  [0,2] value :2\n",
            "enter  [1,0] value :6\n",
            "enter  [1,1] value :3\n",
            "enter  [1,2] value :2\n",
            "enter  [2,0] value :6\n",
            "enter  [2,1] value :7\n",
            "enter  [2,2] value :8\n",
            "matrix is\n",
            "\n",
            "1\t5\t2\t\n",
            "6\t3\t2\t\n",
            "6\t7\t8\t\n"
          ],
          "name": "stdout"
        }
      ]
    },
    {
      "cell_type": "markdown",
      "metadata": {
        "id": "-he0urodDoJT"
      },
      "source": [
        "**b) Write a program to perform addition of two square matrices**"
      ]
    },
    {
      "cell_type": "code",
      "metadata": {
        "colab": {
          "base_uri": "https://localhost:8080/"
        },
        "id": "mbB6Ac8jXVxF",
        "outputId": "addcad6b-351f-44e6-9442-0fe88721489c"
      },
      "source": [
        "def matRead(r,c):\n",
        "  return[[int(input(\"enter [%d,%d] value:\"%(i,j)))for j in range(c)]for i in range(r)]\n",
        "   \n",
        "def disp(mat,r,c):\n",
        "  for i in range(r):\n",
        "    for j in range(c):\n",
        "      print(mat[i][j],end='   ')\n",
        "    print()\n",
        "\n",
        "matA=[[]]\n",
        "matB=[[]]\n",
        "summat=[[]]\n",
        "rows=int(input(\"enter no of rows:\"))\n",
        "cols=int(input(\"enter no of columns:\"))\n",
        "if rows==cols:1\n",
        "  print(\"enter matrix A elements:\")\n",
        "  matA=matRead(rows,cols) \n",
        "  print(\"enter matrix B elements:\")\n",
        "  matB=matRead(rows,cols)\n",
        "  print(\"matrix A is:\")\n",
        "  disp(matA,rows,cols) \n",
        "  print(\"matrix B is:\")\n",
        "  disp(matB,rows,cols)\n",
        "\n",
        "  summat=[[matA[i][j]+matB[i][j]for j in range(cols)]for i in range(rows)]\n",
        "  print(\"sum of matrices:\")\n",
        "  disp(summat,rows,cols)\n",
        "else:\n",
        "  print(\"matrix addition is not possible\")\n",
        "   \n",
        "  \n"
      ],
      "execution_count": null,
      "outputs": [
        {
          "output_type": "stream",
          "text": [
            "enter no of rows:2\n",
            "enter no of columns:2\n",
            "enter matrix A elements:\n",
            "enter [0,0] value:3\n",
            "enter [0,1] value:1\n",
            "enter [1,0] value:5\n",
            "enter [1,1] value:3\n",
            "enter matrix B elements:\n",
            "enter [0,0] value:7\n",
            "enter [0,1] value:5\n",
            "enter [1,0] value:3\n",
            "enter [1,1] value:2\n",
            "matrix A is:\n",
            "3   1   \n",
            "5   3   \n",
            "matrix B is:\n",
            "7   5   \n",
            "3   2   \n",
            "sum of matrices:\n",
            "10   6   \n",
            "8   5   \n"
          ],
          "name": "stdout"
        }
      ]
    },
    {
      "cell_type": "markdown",
      "metadata": {
        "id": "zzoexBuTDv9i"
      },
      "source": [
        "**c) Write a program to perform multiplication of two square matrices**"
      ]
    },
    {
      "cell_type": "code",
      "metadata": {
        "colab": {
          "base_uri": "https://localhost:8080/"
        },
        "id": "veoxDUXrYXVR",
        "outputId": "ae8520bc-0ad4-49e3-be30-f6009e9136c7"
      },
      "source": [
        "def matRead(r,c):\n",
        "  return[[int(input(\"enter [%d,%d] value:\"%(i,j)))for j in range(c)]for i in range(r)]\n",
        "   \n",
        "def disp(mat,r,c):\n",
        "  for i in range(r):\n",
        "    for j in range(c):\n",
        "      print(mat[i][j],end='   ')\n",
        "    print()\n",
        "\n",
        "matA=[[]]\n",
        "matB=[[]]\n",
        "mulmat=[[]]\n",
        "rows=int(input(\"enter no of rows:\"))\n",
        "cols=int(input(\"enter no of columns:\"))\n",
        "if rows==cols:3\n",
        "  print(\"enter matrix A elements:\")\n",
        "  matA=matRead(rows,cols) \n",
        "  print(\"enter matrix B elements:\")\n",
        "  matB=matRead(rows,cols)\n",
        "  print(\"matrix A is:\")\n",
        "  disp(matA,rows,cols) \n",
        "  print(\"matrix B is:\")\n",
        "  disp(matB,rows,cols)\n",
        "  mulmat=[[0 for j in range(cols)]for i in range(rows)]\n",
        "  for i in range(rows):\n",
        "    for j in range(cols):\n",
        "      for k in range(cols):\n",
        "        mulmat[i][j]=matA[i][k]*matB[k][j]\n",
        "  print(\"matrix multiplication is:\")\n",
        "\n",
        "\n",
        "  \n",
        "  \n",
        "  disp(mulmat,rows,cols)\n",
        "else:\n",
        "  print(\"matrix addition is not possible\")\n",
        "   \n",
        "  \n"
      ],
      "execution_count": null,
      "outputs": [
        {
          "output_type": "stream",
          "text": [
            "enter no of rows:2\n",
            "enter no of columns:2\n",
            "enter matrix A elements:\n",
            "enter [0,0] value:2\n",
            "enter [0,1] value:5\n",
            "enter [1,0] value:3\n",
            "enter [1,1] value:7\n",
            "enter matrix B elements:\n",
            "enter [0,0] value:2\n",
            "enter [0,1] value:6\n",
            "enter [1,0] value:4\n",
            "enter [1,1] value:7\n",
            "matrix A is:\n",
            "2   5   \n",
            "3   7   \n",
            "matrix B is:\n",
            "2   6   \n",
            "4   7   \n",
            "matrix multiplication is:\n",
            "20   35   \n",
            "28   49   \n"
          ],
          "name": "stdout"
        }
      ]
    },
    {
      "cell_type": "markdown",
      "metadata": {
        "id": "1aY122Ck7x7n"
      },
      "source": [
        "#***Exercise - 12 : Modules***"
      ]
    },
    {
      "cell_type": "markdown",
      "metadata": {
        "id": "RJHpOSb774fA"
      },
      "source": [
        "**a) Install packages requests, flask and explore them. using (pip)**\n"
      ]
    },
    {
      "cell_type": "markdown",
      "metadata": {
        "id": "co2btgDf8Fvk"
      },
      "source": [
        "**b) Write a script that imports requests and fetch content from the page. Eg. (Wiki)**\n"
      ]
    },
    {
      "cell_type": "code",
      "metadata": {
        "colab": {
          "base_uri": "https://localhost:8080/"
        },
        "id": "JfkGMGXU9PPX",
        "outputId": "6ae9f57f-ea55-4d2e-ee53-0a5946f24977"
      },
      "source": [
        "import requests\n",
        "r=requests.get('https://www.google.com')\n",
        "print(\"status coed:\",r.status_code)\n",
        "print(\"header content:\",r.headers['content-type'])\n",
        "print(r.text)"
      ],
      "execution_count": null,
      "outputs": [
        {
          "output_type": "stream",
          "text": [
            "status coed: 200\n",
            "header content: text/html; charset=ISO-8859-1\n",
            "<!doctype html><html itemscope=\"\" itemtype=\"http://schema.org/WebPage\" lang=\"nl\"><head><meta content=\"text/html; charset=UTF-8\" http-equiv=\"Content-Type\"><meta content=\"/images/branding/googleg/1x/googleg_standard_color_128dp.png\" itemprop=\"image\"><title>Google</title><script nonce=\"nMeHp5ijOU8esHHJpqemLA==\">(function(){window.google={kEI:'TwLWYND0FpK4kwWgnKzABQ',kEXPI:'0,772215,1,530314,56879,954,5105,206,2414,2390,2316,383,246,5,304,1050,5250,16232,10,1106274,1197727,525,31,328984,51224,16114,17444,11240,17572,4859,1361,9290,3024,4750,12835,4998,13228,3847,4192,6430,14528,4516,2778,919,2370,4304,1279,2212,530,149,1103,841,1982,4314,4120,2023,1733,43,521,14670,3227,2845,7,12354,5096,7876,3748,1181,108,3407,908,2,3555,2397,1387,116,9242,3,346,230,6460,148,5990,7985,4,1528,2304,1236,10487,2014,4067,9544,4764,2658,4243,2458,654,32,9773,3855,2305,638,1494,5587,10534,665,5830,2527,4094,19,2237,883,5,908,3,3541,1,14713,1812,282,389,2,1,3,517,5992,1161,5593,432,552,4788,2,1394,2806,711,1004,2,3057,2017,6147,895,2,3243,592,627,905,2470,541,2,1170,618,1274,933,3239,406,1576,3,516,537,1065,226,2,3531,1965,2,1040,645,515,1269,1798,1628,2,2003,176,1264,492,445,1401,177,4816,669,204,3,75,48,1478,787,387,701,1687,253,57,13,1447,321,1739,327,46,16,1,725,585,242,221,1166,1390,2,1,12,40,2,1,12,35,2697,72,237,306,403,1155,132,39,407,1175,519,93,598,74,436,195,1379,429,693,1013,5623187,102,92,32,63,155,2,59,5996810,46,2800650,882,444,1,2,80,1,1796,1,9,2,2551,1,748,141,795,563,1,4265,1,1,2,1331,3299,843,2609,155,17,13,72,139,4,2,20,2,169,13,19,46,5,39,96,548,29,2,2,1,2,1,2,2,7,4,1,2,2,2,2,2,2,353,513,201,22,9,2,2,2,4,14,15,2,18,13,16,1,61,23954981,2738463,1271810,268,1835,26464,2,195,7,2175,3,120,3,6,338,3,1010,444,386,499,75,539,468,151,622',kBL:'agTH'};google.sn='webhp';google.kHL='nl';})();(function(){\n",
            "var f=this||self;var h,k=[];function l(a){for(var b;a&&(!a.getAttribute||!(b=a.getAttribute(\"eid\")));)a=a.parentNode;return b||h}function m(a){for(var b=null;a&&(!a.getAttribute||!(b=a.getAttribute(\"leid\")));)a=a.parentNode;return b}\n",
            "function n(a,b,c,d,g){var e=\"\";c||-1!==b.search(\"&ei=\")||(e=\"&ei=\"+l(d),-1===b.search(\"&lei=\")&&(d=m(d))&&(e+=\"&lei=\"+d));d=\"\";!c&&f._cshid&&-1===b.search(\"&cshid=\")&&\"slh\"!==a&&(d=\"&cshid=\"+f._cshid);c=c||\"/\"+(g||\"gen_204\")+\"?atyp=i&ct=\"+a+\"&cad=\"+b+e+\"&zx=\"+Date.now()+d;/^http:/i.test(c)&&\"https:\"===window.location.protocol&&(google.ml&&google.ml(Error(\"a\"),!1,{src:c,glmm:1}),c=\"\");return c};h=google.kEI;google.getEI=l;google.getLEI=m;google.ml=function(){return null};google.log=function(a,b,c,d,g){if(c=n(a,b,c,d,g)){a=new Image;var e=k.length;k[e]=a;a.onerror=a.onload=a.onabort=function(){delete k[e]};a.src=c}};google.logUrl=n;}).call(this);(function(){\n",
            "google.y={};google.sy=[];google.x=function(a,b){if(a)var c=a.id;else{do c=Math.random();while(google.y[c])}google.y[c]=[a,b];return!1};google.sx=function(a){google.sy.push(a)};google.lm=[];google.plm=function(a){google.lm.push.apply(google.lm,a)};google.lq=[];google.load=function(a,b,c){google.lq.push([[a],b,c])};google.loadAll=function(a,b){google.lq.push([a,b])};google.bx=!1;google.lx=function(){};}).call(this);google.f={};(function(){\n",
            "document.documentElement.addEventListener(\"submit\",function(b){var a;if(a=b.target){var c=a.getAttribute(\"data-submitfalse\");a=\"1\"==c||\"q\"==c&&!a.elements.q.value?!0:!1}else a=!1;a&&(b.preventDefault(),b.stopPropagation())},!0);document.documentElement.addEventListener(\"click\",function(b){var a;a:{for(a=b.target;a&&a!=document.documentElement;a=a.parentElement)if(\"A\"==a.tagName){a=\"1\"==a.getAttribute(\"data-nohref\");break a}a=!1}a&&b.preventDefault()},!0);}).call(this);</script><style>#gbar,#guser{font-size:13px;padding-top:1px !important;}#gbar{height:22px}#guser{padding-bottom:7px !important;text-align:right}.gbh,.gbd{border-top:1px solid #c9d7f1;font-size:1px}.gbh{height:0;position:absolute;top:24px;width:100%}@media all{.gb1{height:22px;margin-right:.5em;vertical-align:top}#gbar{float:left}}a.gb1,a.gb4{text-decoration:underline !important}a.gb1,a.gb4{color:#00c !important}.gbi .gb4{color:#dd8e27 !important}.gbf .gb4{color:#900 !important}\n",
            "</style><style>body,td,a,p,.h{font-family:arial,sans-serif}body{margin:0;overflow-y:scroll}#gog{padding:3px 8px 0}td{line-height:.8em}.gac_m td{line-height:17px}form{margin-bottom:20px}.h{color:#1558d6}em{font-weight:bold;font-style:normal}.lst{height:25px;width:496px}.gsfi,.lst{font:18px arial,sans-serif}.gsfs{font:17px arial,sans-serif}.ds{display:inline-box;display:inline-block;margin:3px 0 4px;margin-left:4px}input{font-family:inherit}body{background:#fff;color:#000}a{color:#4b11a8;text-decoration:none}a:hover,a:active{text-decoration:underline}.fl a{color:#1558d6}a:visited{color:#4b11a8}.sblc{padding-top:5px}.sblc a{display:block;margin:2px 0;margin-left:13px;font-size:11px}.lsbb{background:#f8f9fa;border:solid 1px;border-color:#dadce0 #70757a #70757a #dadce0;height:30px}.lsbb{display:block}#WqQANb a{display:inline-block;margin:0 12px}.lsb{background:url(/images/nav_logo229.png) 0 -261px repeat-x;border:none;color:#000;cursor:pointer;height:30px;margin:0;outline:0;font:15px arial,sans-serif;vertical-align:top}.lsb:active{background:#dadce0}.lst:focus{outline:none}</style><script nonce=\"nMeHp5ijOU8esHHJpqemLA==\"></script></head><body bgcolor=\"#fff\"><script nonce=\"nMeHp5ijOU8esHHJpqemLA==\">(function(){var src='/images/nav_logo229.png';var iesg=false;document.body.onload = function(){window.n && window.n();if (document.images){new Image().src=src;}\n",
            "if (!iesg){document.f&&document.f.q.focus();document.gbqf&&document.gbqf.q.focus();}\n",
            "}\n",
            "})();</script><div id=\"mngb\"><div id=gbar><nobr><b class=gb1>Zoeken</b> <a class=gb1 href=\"https://www.google.nl/imghp?hl=nl&tab=wi\">Afbeeldingen</a> <a class=gb1 href=\"https://maps.google.nl/maps?hl=nl&tab=wl\">Maps</a> <a class=gb1 href=\"https://play.google.com/?hl=nl&tab=w8\">Play</a> <a class=gb1 href=\"https://www.youtube.com/?gl=NL&tab=w1\">YouTube</a> <a class=gb1 href=\"https://news.google.com/?tab=wn\">Nieuws</a> <a class=gb1 href=\"https://mail.google.com/mail/?tab=wm\">Gmail</a> <a class=gb1 href=\"https://drive.google.com/?tab=wo\">Drive</a> <a class=gb1 style=\"text-decoration:none\" href=\"https://www.google.nl/intl/nl/about/products?tab=wh\"><u>Meer</u> &raquo;</a></nobr></div><div id=guser width=100%><nobr><span id=gbn class=gbi></span><span id=gbf class=gbf></span><span id=gbe></span><a href=\"http://www.google.nl/history/optout?hl=nl\" class=gb4>Webgeschiedenis</a> | <a  href=\"/preferences?hl=nl\" class=gb4>Instellingen</a> | <a target=_top id=gb_70 href=\"https://accounts.google.com/ServiceLogin?hl=nl&passive=true&continue=https://www.google.com/&ec=GAZAAQ\" class=gb4>Inloggen</a></nobr></div><div class=gbh style=left:0></div><div class=gbh style=right:0></div></div><center><br clear=\"all\" id=\"lgpd\"><div id=\"lga\"><img alt=\"Google\" height=\"92\" src=\"/images/branding/googlelogo/1x/googlelogo_white_background_color_272x92dp.png\" style=\"padding:28px 0 14px\" width=\"272\" id=\"hplogo\"><br><br></div><form action=\"/search\" name=\"f\"><table cellpadding=\"0\" cellspacing=\"0\"><tr valign=\"top\"><td width=\"25%\">&nbsp;</td><td align=\"center\" nowrap=\"\"><input name=\"ie\" value=\"ISO-8859-1\" type=\"hidden\"><input value=\"nl\" name=\"hl\" type=\"hidden\"><input name=\"source\" type=\"hidden\" value=\"hp\"><input name=\"biw\" type=\"hidden\"><input name=\"bih\" type=\"hidden\"><div class=\"ds\" style=\"height:32px;margin:4px 0\"><input class=\"lst\" style=\"margin:0;padding:5px 8px 0 6px;vertical-align:top;color:#000\" autocomplete=\"off\" value=\"\" title=\"Google zoeken\" maxlength=\"2048\" name=\"q\" size=\"57\"></div><br style=\"line-height:0\"><span class=\"ds\"><span class=\"lsbb\"><input class=\"lsb\" value=\"Google zoeken\" name=\"btnG\" type=\"submit\"></span></span><span class=\"ds\"><span class=\"lsbb\"><input class=\"lsb\" id=\"tsuid1\" value=\"Ik doe een gok\" name=\"btnI\" type=\"submit\"><script nonce=\"nMeHp5ijOU8esHHJpqemLA==\">(function(){var id='tsuid1';document.getElementById(id).onclick = function(){if (this.form.q.value){this.checked = 1;if (this.form.iflsig)this.form.iflsig.disabled = false;}\n",
            "else top.location='/doodles/';};})();</script><input value=\"AINFCbYAAAAAYNYQXzojQ4o8Z885D9mOfsRT3Pjy8x4c\" name=\"iflsig\" type=\"hidden\"></span></span></td><td class=\"fl sblc\" align=\"left\" nowrap=\"\" width=\"25%\"><a href=\"/advanced_search?hl=nl&amp;authuser=0\">Geavanceerd zoeken</a></td></tr></table><input id=\"gbv\" name=\"gbv\" type=\"hidden\" value=\"1\"><script nonce=\"nMeHp5ijOU8esHHJpqemLA==\">(function(){\n",
            "var a,b=\"1\";if(document&&document.getElementById)if(\"undefined\"!=typeof XMLHttpRequest)b=\"2\";else if(\"undefined\"!=typeof ActiveXObject){var c,d,e=[\"MSXML2.XMLHTTP.6.0\",\"MSXML2.XMLHTTP.3.0\",\"MSXML2.XMLHTTP\",\"Microsoft.XMLHTTP\"];for(c=0;d=e[c++];)try{new ActiveXObject(d),b=\"2\"}catch(h){}}a=b;if(\"2\"==a&&-1==location.search.indexOf(\"&gbv=2\")){var f=google.gbvu,g=document.getElementById(\"gbv\");g&&(g.value=a);f&&window.setTimeout(function(){location.href=f},0)};}).call(this);</script></form><div id=\"gac_scont\"></div><div style=\"font-size:83%;min-height:3.5em\"><br><div id=\"gws-output-pages-elements-homepage_additional_languages__als\"><style>#gws-output-pages-elements-homepage_additional_languages__als{font-size:small;margin-bottom:24px}#SIvCob{display:inline-block;line-height:28px;}#SIvCob a{padding:0 3px;}.H6sW5{display:inline-block;margin:0 2px;white-space:nowrap}.z4hgWe{display:inline-block;margin:0 2px}</style><div id=\"SIvCob\">Google aangeboden in:  <a href=\"https://www.google.com/setprefs?sig=0_VsA1nE2YBzt5YpBvaPs0G_EWYgg%3D&amp;hl=fy&amp;source=homepage&amp;sa=X&amp;ved=0ahUKEwiQ2P6lmLPxAhUS3KQKHSAOC1gQ2ZgBCAU\">Frysk</a>  </div></div></div><span id=\"footer\"><div style=\"font-size:10pt\"><div style=\"margin:19px auto;text-align:center\" id=\"WqQANb\"><a href=\"/intl/nl/ads/\">Advertentieprogramma's</a><a href=\"http://www.google.nl/intl/nl/services/\">Bedrijfsoplossingen</a><a href=\"/intl/nl/about.html\">Alles over Google</a><a href=\"https://www.google.com/setprefdomain?prefdom=NL&amp;prev=https://www.google.nl/&amp;sig=K_kCmpR1QoIj5fMnWJtq7DJtDkTqM%3D\">Google.nl</a></div></div><p style=\"font-size:8pt;color:#70757a\">&copy; 2021 - <a href=\"/intl/nl/policies/privacy/\">Privacy</a> - <a href=\"/intl/nl/policies/terms/\">Voorwaarden</a></p></span></center><script nonce=\"nMeHp5ijOU8esHHJpqemLA==\">(function(){window.google.cdo={height:0,width:0};(function(){\n",
            "var a=window.innerWidth,b=window.innerHeight;if(!a||!b){var c=window.document,d=\"CSS1Compat\"==c.compatMode?c.documentElement:c.body;a=d.clientWidth;b=d.clientHeight}a&&b&&(a!=google.cdo.width||b!=google.cdo.height)&&google.log(\"\",\"\",\"/client_204?&atyp=i&biw=\"+a+\"&bih=\"+b+\"&ei=\"+google.kEI);}).call(this);})();</script> <script nonce=\"nMeHp5ijOU8esHHJpqemLA==\">(function(){google.xjs={ck:'',cs:'',excm:[],pml:false};})();</script>  <script nonce=\"nMeHp5ijOU8esHHJpqemLA==\">(function(){var u='/xjs/_/js/k\\x3dxjs.hp.en.JRh4tN6N9QQ.O/m\\x3dsb_he,d/am\\x3dAHgCLA/d\\x3d1/ed\\x3d1/rs\\x3dACT90oGYDOHwsB3rPn3m-ZHj8pe2l1LEYg';\n",
            "var e=this||self,f=function(a){return a};var g;var l=function(a,b){this.g=b===h?a:\"\"};l.prototype.toString=function(){return this.g+\"\"};var h={};function m(){var a=u;google.lx=function(){n(a);google.lx=function(){}};google.bx||google.lx()}\n",
            "function n(a){google.timers&&google.timers.load&&google.tick&&google.tick(\"load\",\"xjsls\");var b=document;var c=\"SCRIPT\";\"application/xhtml+xml\"===b.contentType&&(c=c.toLowerCase());c=b.createElement(c);if(void 0===g){b=null;var k=e.trustedTypes;if(k&&k.createPolicy){try{b=k.createPolicy(\"goog#html\",{createHTML:f,createScript:f,createScriptURL:f})}catch(p){e.console&&e.console.error(p.message)}g=b}else g=b}a=(b=g)?b.createScriptURL(a):a;a=new l(a,h);c.src=a instanceof l&&a.constructor===l?a.g:\"type_error:TrustedResourceUrl\";var d;a=(c.ownerDocument&&c.ownerDocument.defaultView||window).document;(d=(a=null===(d=a.querySelector)||void 0===d?void 0:d.call(a,\"script[nonce]\"))?a.nonce||a.getAttribute(\"nonce\")||\"\":\"\")&&c.setAttribute(\"nonce\",d);document.body.appendChild(c);google.psa=!0};setTimeout(function(){m()},0);})();(function(){window.google.xjsu='/xjs/_/js/k\\x3dxjs.hp.en.JRh4tN6N9QQ.O/m\\x3dsb_he,d/am\\x3dAHgCLA/d\\x3d1/ed\\x3d1/rs\\x3dACT90oGYDOHwsB3rPn3m-ZHj8pe2l1LEYg';})();function _DumpException(e){throw e;}\n",
            "function _F_installCss(c){}\n",
            "(function(){google.jl={attn:false,blt:'none',dw:false,emtn:0,ine:false,lls:'default',pdt:0,snet:true,ubm:false,uwp:true};})();(function(){var pmc='{\\x22d\\x22:{},\\x22sb_he\\x22:{\\x22agen\\x22:true,\\x22cgen\\x22:true,\\x22client\\x22:\\x22heirloom-hp\\x22,\\x22dh\\x22:true,\\x22dhqt\\x22:true,\\x22ds\\x22:\\x22\\x22,\\x22ffql\\x22:\\x22en\\x22,\\x22fl\\x22:true,\\x22host\\x22:\\x22google.com\\x22,\\x22isbh\\x22:28,\\x22jsonp\\x22:true,\\x22msgs\\x22:{\\x22cibl\\x22:\\x22Zoekopdracht wissen\\x22,\\x22dym\\x22:\\x22Bedoelde je:\\x22,\\x22lcky\\x22:\\x22Ik doe een gok\\x22,\\x22lml\\x22:\\x22Meer informatie\\x22,\\x22oskt\\x22:\\x22Invoertools\\x22,\\x22psrc\\x22:\\x22Deze zoekopdracht is verwijderd uit je \\\\u003Ca href\\x3d\\\\\\x22/history\\\\\\x22\\\\u003EWebgeschiedenis\\\\u003C/a\\\\u003E\\x22,\\x22psrl\\x22:\\x22Verwijderen\\x22,\\x22sbit\\x22:\\x22Zoeken op afbeelding\\x22,\\x22srch\\x22:\\x22Google zoeken\\x22},\\x22nrft\\x22:false,\\x22ovr\\x22:{},\\x22pq\\x22:\\x22\\x22,\\x22refpd\\x22:true,\\x22rfs\\x22:[],\\x22sbas\\x22:\\x220 3px 8px 0 rgba(0,0,0,0.2),0 0 0 1px rgba(0,0,0,0.08)\\x22,\\x22sbpl\\x22:16,\\x22sbpr\\x22:16,\\x22scd\\x22:10,\\x22stok\\x22:\\x22umb4E3s4Yvj3dANlJHro1p6vZiw\\x22,\\x22uhde\\x22:false}}';google.pmc=JSON.parse(pmc);})();</script>        </body></html>\n"
          ],
          "name": "stdout"
        }
      ]
    },
    {
      "cell_type": "markdown",
      "metadata": {
        "id": "bX_Tpq7-8JFy"
      },
      "source": [
        "**c) Write a simple script that serves a simple HTTPResponse and a simple HTML Page**"
      ]
    },
    {
      "cell_type": "code",
      "metadata": {
        "colab": {
          "base_uri": "https://localhost:8080/"
        },
        "id": "MboEcive-Fjr",
        "outputId": "cf44d1e8-8d36-4a1b-87c1-774dee3d6594"
      },
      "source": [
        "from flask import Flask,render_template\n",
        "app=Flask(__name__)\n",
        "print(app)\n",
        "@app.route(\"/\")\n",
        "def main():\n",
        "  return render_template('login.html')\n",
        "  if __name__==\"__main__\":\n",
        "    app.run(host=\"127.0.0.1\",port=2500)"
      ],
      "execution_count": null,
      "outputs": [
        {
          "output_type": "stream",
          "text": [
            "<Flask '__main__'>\n"
          ],
          "name": "stdout"
        }
      ]
    },
    {
      "cell_type": "markdown",
      "metadata": {
        "id": "ESb1fQdD-XAx"
      },
      "source": [
        "#***Exercise - 13: OOP***"
      ]
    },
    {
      "cell_type": "markdown",
      "metadata": {
        "id": "mez5w28C-rf4"
      },
      "source": [
        "**a) Class variables and instance variable and illustration of the self-variable\n",
        "i) Robot\n",
        "ii) ATM Machine**"
      ]
    },
    {
      "cell_type": "markdown",
      "metadata": {
        "id": "j7oFG6kd-AfX"
      },
      "source": [
        "**i)robot**"
      ]
    },
    {
      "cell_type": "code",
      "metadata": {
        "colab": {
          "base_uri": "https://localhost:8080/"
        },
        "id": "G8a1OF_j-FrZ",
        "outputId": "6f48d890-7124-4bc7-9595-c241c0c32a21"
      },
      "source": [
        "class Robot:\n",
        "  what=\"machine\"\n",
        "  name=\"chitti\"\n",
        "  version=1.0\n",
        "  speed=\"1THz\"\n",
        "  memory=\"1ZB\"\n",
        "\n",
        "  def update(upd):\n",
        "    upd.version=2.0\n",
        "    upd.speed=\"2THz\"\n",
        "    memory=\"2ZB\"\n",
        "\n",
        "  def disp(self):\n",
        "    print(\"My self is a\",robj.what)\n",
        "    print(\"my name is a\",robj.name)\n",
        "    print(\"version:\",robj.version)\n",
        "    print(\"speed:\",robj.speed)\n",
        "    print(\"memory:\",robj.memory)\n",
        "\n",
        "robj=Robot()\n",
        "robj.disp()\n",
        "print(\"--------Update-----------\")\n",
        "robj.update()\n",
        "robj.disp()\n"
      ],
      "execution_count": null,
      "outputs": [
        {
          "output_type": "stream",
          "text": [
            "My self is a machine\n",
            "my name is a chitti\n",
            "version: 1.0\n",
            "speed: 1THz\n",
            "memory: 1ZB\n",
            "--------Update-----------\n",
            "My self is a machine\n",
            "my name is a chitti\n",
            "version: 2.0\n",
            "speed: 2THz\n",
            "memory: 1ZB\n"
          ],
          "name": "stdout"
        }
      ]
    },
    {
      "cell_type": "markdown",
      "metadata": {
        "id": "FAf28c2FAMBf"
      },
      "source": [
        "**ii)ATm machine**"
      ]
    },
    {
      "cell_type": "code",
      "metadata": {
        "colab": {
          "base_uri": "https://localhost:8080/",
          "height": 128
        },
        "id": "EQ784OH_AIwu",
        "outputId": "3f69f543-1a58-4f17-dea5-a73e7bdbccda"
      },
      "source": [
        "class ATM:\n",
        "  def init(self):\n",
        "    self.balance=0\n",
        "  \n",
        "  def enquire(self):\n",
        "    print(\"balance is:\",self.balance)\n",
        " \n",
        "  def deposit(self):\n",
        "    amount=int(input(\"enter amount to depposit\":))\n",
        "    self.balance+=amount\n",
        "    self.enquire()\n",
        "  def withdraw(self):\n",
        "    if self.balance<amount:\n",
        "      print(\"ammount is insufficient\")\n",
        "    else:\n",
        "      self.balance-=amount\n",
        "      self.enquire()\n",
        "obj=ATM()\n",
        "while(true):\n",
        "  print(\"****MENU*****\")\n",
        "  print(\"1.deposit\")\n",
        "  print(\"2.withdraw\")\n",
        "  print(\"3.Balance\")\n",
        "  print(\"0.exit\")\n",
        "  ch=int(input(\"enter your choice\"))\n",
        "  if ch==0:\n",
        "    break\n",
        "  elif ch==1:\n",
        "    obj.deposit()\n",
        "  elif ch==2:\n",
        "    obj.withdraw()\n",
        "  elif ch==3:\n",
        "    obj.Balnace()\n",
        "  else:\n",
        "    print(\"ivalid option\")"
      ],
      "execution_count": null,
      "outputs": [
        {
          "output_type": "error",
          "ename": "SyntaxError",
          "evalue": "ignored",
          "traceback": [
            "\u001b[0;36m  File \u001b[0;32m\"<ipython-input-10-004c4b09b2f2>\"\u001b[0;36m, line \u001b[0;32m9\u001b[0m\n\u001b[0;31m    amount=int(input(\"enter amount to depposit\":))\u001b[0m\n\u001b[0m                                               ^\u001b[0m\n\u001b[0;31mSyntaxError\u001b[0m\u001b[0;31m:\u001b[0m invalid syntax\n"
          ]
        }
      ]
    },
    {
      "cell_type": "markdown",
      "metadata": {
        "id": "qzR7Ywif_bkd"
      },
      "source": [
        "#***Exercise - 14 :GUI, Graphics***"
      ]
    },
    {
      "cell_type": "markdown",
      "metadata": {
        "id": "GC1mE-VH_yeB"
      },
      "source": [
        "**1. Write a GUI for an Expression Calculator using tk**"
      ]
    },
    {
      "cell_type": "code",
      "metadata": {
        "id": "P8HJIOpvDJ5m"
      },
      "source": [
        "import turtle\n",
        "c=[\"red\",\"green\",\"blue\"]\n",
        "i=0\n",
        "turtle.pensize(5)\n",
        "\n",
        "for angle in range(0,360,30):\n",
        "    if i>2:\n",
        "        i=0\n",
        "    turtle.color(c[i])\n",
        "    turtle.seth(angle)\n",
        "    turtle.circle(50)\n",
        "    i+=1"
      ],
      "execution_count": null,
      "outputs": []
    },
    {
      "cell_type": "markdown",
      "metadata": {
        "id": "w-uDBW8f_hUf"
      },
      "source": [
        "**2. Write a program to implement the following figures using turtle**"
      ]
    },
    {
      "cell_type": "code",
      "metadata": {
        "id": "xSuqFNPXGUI_"
      },
      "source": [
        "import turtle\n",
        "turtle.pensize(1)\n",
        "\n",
        "for i in range(36):\n",
        "    for j in range(4):\n",
        "        turtle.forward(70)\n",
        "        turtle.left(90)\n",
        "    turtle.left(10)"
      ],
      "execution_count": null,
      "outputs": []
    },
    {
      "cell_type": "markdown",
      "metadata": {
        "id": "qhmE2NFKAJPL"
      },
      "source": [
        "\n",
        "#***Exercise - 15 - Testing***\n"
      ]
    },
    {
      "cell_type": "markdown",
      "metadata": {
        "id": "9273QKjiAQ1B"
      },
      "source": [
        "**a) Write a test-case to check the function even numbers which return True on passing a list of all even \n",
        "numbers**"
      ]
    },
    {
      "cell_type": "code",
      "metadata": {
        "colab": {
          "base_uri": "https://localhost:8080/"
        },
        "id": "URo0zldmGbAG",
        "outputId": "f4d64f01-0107-4ce2-b703-2065dc93b017"
      },
      "source": [
        "def evnNo(num):\n",
        "    stat=True\n",
        "\n",
        "    for i in num:\n",
        "        if i%2 ==1:\n",
        "            stat=False\n",
        "            break\n",
        "    return stat\n",
        "        \n",
        "numbers=[]\n",
        "for i in range(0,2):\n",
        "    numbers.append(int(input(\"Enter a value\")))\n",
        "print(evnNo(numbers))\n"
      ],
      "execution_count": null,
      "outputs": [
        {
          "output_type": "stream",
          "text": [
            "Enter a value4\n",
            "Enter a value2\n",
            "True\n"
          ],
          "name": "stdout"
        }
      ]
    },
    {
      "cell_type": "markdown",
      "metadata": {
        "id": "nGE9v1fKBSCE"
      },
      "source": [
        "**b) Write a test-case to check the function reverse string which returns the reversed string**\n"
      ]
    },
    {
      "cell_type": "code",
      "metadata": {
        "colab": {
          "base_uri": "https://localhost:8080/"
        },
        "id": "xXHKMY_bHaJM",
        "outputId": "41473390-b631-46ae-8c27-ca818d65b29e"
      },
      "source": [
        "def rev_str(st):\n",
        "  temp=\"\"\n",
        "  for i in range(len(st)-1,-1,-1):\n",
        "     temp+=st[i]\n",
        "  return temp\n",
        "st=\"Swarnandra \"\n",
        "print(\"given string is\",st)\n",
        "print(\"reverse string is:\",rev_str(st))"
      ],
      "execution_count": null,
      "outputs": [
        {
          "output_type": "stream",
          "text": [
            "given string is Swarnandra \n",
            "reverse string is:  ardnanrawS\n"
          ],
          "name": "stdout"
        }
      ]
    }
  ]
}