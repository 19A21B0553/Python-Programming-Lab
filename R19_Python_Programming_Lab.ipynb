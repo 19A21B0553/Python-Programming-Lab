{
  "nbformat": 4,
  "nbformat_minor": 0,
  "metadata": {
    "colab": {
      "name": "R19-Python Programming Lab.ipynb",
      "provenance": [],
      "collapsed_sections": [
        "sTaUhZDHPi-S",
        "Sr7C0VD1-xI-",
        "8GBuHCF8NU84",
        "5pqEk8YiVJx5",
        "dcx0dY_YZnSk",
        "sO7p46rctrOZ",
        "b2vLyFd2_sUC",
        "-wlg2SBQLwv5",
        "cpzVlSAU24SN",
        "SxmHiNgP97lP"
      ],
      "authorship_tag": "ABX9TyM8nuTmiq93gSCN/ETBQjiN",
      "include_colab_link": true
    },
    "kernelspec": {
      "name": "python3",
      "display_name": "Python 3"
    },
    "language_info": {
      "name": "python"
    }
  },
  "cells": [
    {
      "cell_type": "markdown",
      "metadata": {
        "id": "view-in-github",
        "colab_type": "text"
      },
      "source": [
        "<a href=\"https://colab.research.google.com/github/19A21B0553/Python-Programming-Lab/blob/main/R19_Python_Programming_Lab.ipynb\" target=\"_parent\"><img src=\"https://colab.research.google.com/assets/colab-badge.svg\" alt=\"Open In Colab\"/></a>"
      ]
    },
    {
      "cell_type": "markdown",
      "metadata": {
        "id": "sTaUhZDHPi-S"
      },
      "source": [
        "#***Exercise-1:basics***"
      ]
    },
    {
      "cell_type": "markdown",
      "metadata": {
        "id": "clh0bK48SK28"
      },
      "source": [
        "**a) Running instructions in Interactive interpreter and a Python Scrip**"
      ]
    },
    {
      "cell_type": "markdown",
      "metadata": {
        "id": "VEFpcVgmacyP"
      },
      "source": [
        "*interactive interpreter"
      ]
    },
    {
      "cell_type": "code",
      "metadata": {
        "id": "DX511vCySdj5"
      },
      "source": [
        "b=2"
      ],
      "execution_count": null,
      "outputs": []
    },
    {
      "cell_type": "code",
      "metadata": {
        "colab": {
          "base_uri": "https://localhost:8080/"
        },
        "id": "JqQqd37QSp_8",
        "outputId": "ca8fa72b-4a60-4886-e264-76d7459de738"
      },
      "source": [
        "b"
      ],
      "execution_count": null,
      "outputs": [
        {
          "output_type": "execute_result",
          "data": {
            "text/plain": [
              "2"
            ]
          },
          "metadata": {
            "tags": []
          },
          "execution_count": 3
        }
      ]
    },
    {
      "cell_type": "code",
      "metadata": {
        "colab": {
          "base_uri": "https://localhost:8080/"
        },
        "id": "mGczlwtETLFe",
        "outputId": "899d3c86-a12c-4984-e901-7f331ae4cc70"
      },
      "source": [
        "print(b)"
      ],
      "execution_count": null,
      "outputs": [
        {
          "output_type": "stream",
          "text": [
            "2\n"
          ],
          "name": "stdout"
        }
      ]
    },
    {
      "cell_type": "code",
      "metadata": {
        "id": "kB2LTboFTOtB"
      },
      "source": [
        "a=b"
      ],
      "execution_count": null,
      "outputs": []
    },
    {
      "cell_type": "code",
      "metadata": {
        "id": "IX8Zvwz7TZs1",
        "colab": {
          "base_uri": "https://localhost:8080/"
        },
        "outputId": "3601592c-1bb7-408d-fbf3-941c32c113d6"
      },
      "source": [
        "print(a+b)"
      ],
      "execution_count": null,
      "outputs": [
        {
          "output_type": "stream",
          "text": [
            "4\n"
          ],
          "name": "stdout"
        }
      ]
    },
    {
      "cell_type": "code",
      "metadata": {
        "id": "fNzLQCaqTeZS",
        "colab": {
          "base_uri": "https://localhost:8080/"
        },
        "outputId": "d338df2d-8308-44a9-f965-6aac05db1b4f"
      },
      "source": [
        "print(\"sum is \",a+b)"
      ],
      "execution_count": null,
      "outputs": [
        {
          "output_type": "stream",
          "text": [
            "sum is  4\n"
          ],
          "name": "stdout"
        }
      ]
    },
    {
      "cell_type": "code",
      "metadata": {
        "id": "BS_cOWoWTupx"
      },
      "source": [
        "a,b=b,a"
      ],
      "execution_count": null,
      "outputs": []
    },
    {
      "cell_type": "code",
      "metadata": {
        "id": "viMun9dXTyAA",
        "colab": {
          "base_uri": "https://localhost:8080/"
        },
        "outputId": "e1cc703e-a086-40ac-98bc-9fae5ab28776"
      },
      "source": [
        "a,b"
      ],
      "execution_count": null,
      "outputs": [
        {
          "output_type": "execute_result",
          "data": {
            "text/plain": [
              "(2, 2)"
            ]
          },
          "metadata": {
            "tags": []
          },
          "execution_count": 10
        }
      ]
    },
    {
      "cell_type": "code",
      "metadata": {
        "id": "HHW7MuYHT3Ru",
        "colab": {
          "base_uri": "https://localhost:8080/"
        },
        "outputId": "677cdb05-26ee-4c8b-9733-050aff0d7c89"
      },
      "source": [
        "10+20"
      ],
      "execution_count": null,
      "outputs": [
        {
          "output_type": "execute_result",
          "data": {
            "text/plain": [
              "30"
            ]
          },
          "metadata": {
            "tags": []
          },
          "execution_count": 11
        }
      ]
    },
    {
      "cell_type": "code",
      "metadata": {
        "id": "JGdNz-3mT8V9"
      },
      "source": [
        "x='cse'"
      ],
      "execution_count": null,
      "outputs": []
    },
    {
      "cell_type": "code",
      "metadata": {
        "id": "2SlIXI0hT_S7",
        "colab": {
          "base_uri": "https://localhost:8080/",
          "height": 35
        },
        "outputId": "11fd0eb0-24a5-4376-b808-824cfcdbec9f"
      },
      "source": [
        "x"
      ],
      "execution_count": null,
      "outputs": [
        {
          "output_type": "execute_result",
          "data": {
            "application/vnd.google.colaboratory.intrinsic+json": {
              "type": "string"
            },
            "text/plain": [
              "'cse'"
            ]
          },
          "metadata": {
            "tags": []
          },
          "execution_count": 15
        }
      ]
    },
    {
      "cell_type": "code",
      "metadata": {
        "id": "QDpEc5f6UAWb",
        "colab": {
          "base_uri": "https://localhost:8080/",
          "height": 35
        },
        "outputId": "25a7df8f-c3ef-44c7-f89c-f9594501be6e"
      },
      "source": [
        "x+\"1\""
      ],
      "execution_count": null,
      "outputs": [
        {
          "output_type": "execute_result",
          "data": {
            "application/vnd.google.colaboratory.intrinsic+json": {
              "type": "string"
            },
            "text/plain": [
              "'cse1'"
            ]
          },
          "metadata": {
            "tags": []
          },
          "execution_count": 16
        }
      ]
    },
    {
      "cell_type": "code",
      "metadata": {
        "id": "yllv3ZFiUGW2",
        "colab": {
          "base_uri": "https://localhost:8080/"
        },
        "outputId": "a92639e7-de65-4ed8-a5cd-9ac53e3be186"
      },
      "source": [
        "type(a)"
      ],
      "execution_count": null,
      "outputs": [
        {
          "output_type": "execute_result",
          "data": {
            "text/plain": [
              "int"
            ]
          },
          "metadata": {
            "tags": []
          },
          "execution_count": 17
        }
      ]
    },
    {
      "cell_type": "code",
      "metadata": {
        "id": "LCzQ_70_UJlJ"
      },
      "source": [
        "name=\"cse\""
      ],
      "execution_count": null,
      "outputs": []
    },
    {
      "cell_type": "code",
      "metadata": {
        "id": "JMhlXjjPUMK0",
        "colab": {
          "base_uri": "https://localhost:8080/"
        },
        "outputId": "9fdc8d75-f77b-4ddf-afdf-c4e67ec82ea1"
      },
      "source": [
        "type(name)"
      ],
      "execution_count": null,
      "outputs": [
        {
          "output_type": "execute_result",
          "data": {
            "text/plain": [
              "str"
            ]
          },
          "metadata": {
            "tags": []
          },
          "execution_count": 20
        }
      ]
    },
    {
      "cell_type": "code",
      "metadata": {
        "id": "Oj6h87D8UOJ_"
      },
      "source": [
        "p,q,r=11,1.2,'cse'"
      ],
      "execution_count": null,
      "outputs": []
    },
    {
      "cell_type": "code",
      "metadata": {
        "id": "mSgUubGRUXQM",
        "colab": {
          "base_uri": "https://localhost:8080/"
        },
        "outputId": "2a42cd93-e43c-403b-87d6-c9e3b6780213"
      },
      "source": [
        "p"
      ],
      "execution_count": null,
      "outputs": [
        {
          "output_type": "execute_result",
          "data": {
            "text/plain": [
              "11"
            ]
          },
          "metadata": {
            "tags": []
          },
          "execution_count": 24
        }
      ]
    },
    {
      "cell_type": "code",
      "metadata": {
        "id": "9k2FArQlUYbz",
        "colab": {
          "base_uri": "https://localhost:8080/"
        },
        "outputId": "1b9874b4-4134-4d8d-eccb-0d325ed50ae4"
      },
      "source": [
        "q"
      ],
      "execution_count": null,
      "outputs": [
        {
          "output_type": "execute_result",
          "data": {
            "text/plain": [
              "1.2"
            ]
          },
          "metadata": {
            "tags": []
          },
          "execution_count": 25
        }
      ]
    },
    {
      "cell_type": "code",
      "metadata": {
        "id": "XXGsSkOPUeFC",
        "colab": {
          "base_uri": "https://localhost:8080/",
          "height": 35
        },
        "outputId": "035ca255-c591-4635-9569-e63a8d10dad1"
      },
      "source": [
        "r"
      ],
      "execution_count": null,
      "outputs": [
        {
          "output_type": "execute_result",
          "data": {
            "application/vnd.google.colaboratory.intrinsic+json": {
              "type": "string"
            },
            "text/plain": [
              "'cse'"
            ]
          },
          "metadata": {
            "tags": []
          },
          "execution_count": 26
        }
      ]
    },
    {
      "cell_type": "code",
      "metadata": {
        "id": "amBXUmEWYzRM",
        "colab": {
          "base_uri": "https://localhost:8080/",
          "height": 35
        },
        "outputId": "c1c5d718-0930-472b-8b04-b48a305819d0"
      },
      "source": [
        "'CSE'*2"
      ],
      "execution_count": null,
      "outputs": [
        {
          "output_type": "execute_result",
          "data": {
            "application/vnd.google.colaboratory.intrinsic+json": {
              "type": "string"
            },
            "text/plain": [
              "'CSECSE'"
            ]
          },
          "metadata": {
            "tags": []
          },
          "execution_count": 28
        }
      ]
    },
    {
      "cell_type": "markdown",
      "metadata": {
        "id": "3QmAPyh1aSzF"
      },
      "source": [
        "*script mode"
      ]
    },
    {
      "cell_type": "code",
      "metadata": {
        "colab": {
          "base_uri": "https://localhost:8080/"
        },
        "id": "j2b1reSQbiTU",
        "outputId": "7173f026-a555-4909-d6d4-77b713982bdb"
      },
      "source": [
        "a=int(input(\"enter a value\"))\n",
        "b=int(input(\"enter b value\"))\n",
        "C=a+b\n",
        "print(\"sum of a=\",a,\"and b=\",b,\"is\",C)\n",
        "X=10\n",
        "Y=20\n",
        "Z=X+Y\n",
        "print(\"sum of{} and {} is:{}\".format(X,Y,Z))"
      ],
      "execution_count": null,
      "outputs": [
        {
          "output_type": "stream",
          "text": [
            "enter a value1\n",
            "enter b value2\n",
            "sum of a= 1 and b= 2 is 3\n",
            "sum of10 and 20 is:30\n"
          ],
          "name": "stdout"
        }
      ]
    },
    {
      "cell_type": "markdown",
      "metadata": {
        "id": "ugd4DNRAZzOF"
      },
      "source": [
        "**b) Write a program to purposefully raise Indentation Error and Correct it**"
      ]
    },
    {
      "cell_type": "code",
      "metadata": {
        "colab": {
          "base_uri": "https://localhost:8080/",
          "height": 166
        },
        "id": "swJgRIpYZ6nH",
        "outputId": "f8c0deb8-6adc-4a6f-8072-5131e9ec5165"
      },
      "source": [
        "print(\"welcome to python\")\n",
        "  a=10\n",
        "  b=20\n",
        "print (\"a\",a,\"b\",b)"
      ],
      "execution_count": null,
      "outputs": [
        {
          "output_type": "error",
          "ename": "IndentationError",
          "evalue": "ignored",
          "traceback": [
            "\u001b[0;36m  File \u001b[0;32m\"<ipython-input-36-e36f5b055319>\"\u001b[0;36m, line \u001b[0;32m2\u001b[0m\n\u001b[0;31m    a=10\u001b[0m\n\u001b[0m    ^\u001b[0m\n\u001b[0;31mIndentationError\u001b[0m\u001b[0;31m:\u001b[0m unexpected indent\n"
          ]
        }
      ]
    },
    {
      "cell_type": "markdown",
      "metadata": {
        "id": "fe6ZhQQoeOp9"
      },
      "source": [
        "*correction"
      ]
    },
    {
      "cell_type": "code",
      "metadata": {
        "colab": {
          "base_uri": "https://localhost:8080/"
        },
        "id": "iEyUEHAmeVIA",
        "outputId": "0e5585c0-ab83-4e2a-a7c5-ff2a6cbe2567"
      },
      "source": [
        " print(\"welcome to python\")\n",
        "a=10\n",
        "b=20\n",
        "print (\"a\",a,\"b\",b)"
      ],
      "execution_count": null,
      "outputs": [
        {
          "output_type": "stream",
          "text": [
            "welcome to python\n",
            "a 10 b 20\n"
          ],
          "name": "stdout"
        }
      ]
    },
    {
      "cell_type": "code",
      "metadata": {
        "colab": {
          "base_uri": "https://localhost:8080/",
          "height": 166
        },
        "id": "6oSeNBlDee7C",
        "outputId": "e60e0cba-63bf-4d60-deba-851647e77279"
      },
      "source": [
        "print(\"welcome to python\")\n",
        "a=10\n",
        "b=20\n",
        "print (\"a\",a,\"b\",b)\n",
        "if a<b:\n",
        "print(\"a is big\")\n",
        "else:\n",
        "print(\"b is big\")"
      ],
      "execution_count": null,
      "outputs": [
        {
          "output_type": "error",
          "ename": "IndentationError",
          "evalue": "ignored",
          "traceback": [
            "\u001b[0;36m  File \u001b[0;32m\"<ipython-input-39-e17c6556e284>\"\u001b[0;36m, line \u001b[0;32m6\u001b[0m\n\u001b[0;31m    print(\"a is big\")\u001b[0m\n\u001b[0m        ^\u001b[0m\n\u001b[0;31mIndentationError\u001b[0m\u001b[0;31m:\u001b[0m expected an indented block\n"
          ]
        }
      ]
    },
    {
      "cell_type": "markdown",
      "metadata": {
        "id": "Bxxxli0QfVML"
      },
      "source": [
        "*correction"
      ]
    },
    {
      "cell_type": "code",
      "metadata": {
        "colab": {
          "base_uri": "https://localhost:8080/"
        },
        "id": "5RYH9DxQfCTv",
        "outputId": "b050af7e-e7e5-49a6-d5f4-64008acb5409"
      },
      "source": [
        " print(\"welcome to python\")\n",
        "a=10\n",
        "b=20\n",
        "print (\"a\",a,\"b\",b)\n",
        "if a<b:\n",
        "  print(\"a is big\")\n",
        "else:\n",
        "  print(\"b is big\")"
      ],
      "execution_count": null,
      "outputs": [
        {
          "output_type": "stream",
          "text": [
            "welcome to python\n",
            "a 10 b 20\n",
            "a is big\n"
          ],
          "name": "stdout"
        }
      ]
    },
    {
      "cell_type": "markdown",
      "metadata": {
        "id": "Sr7C0VD1-xI-"
      },
      "source": [
        "#***exercise-2:operations***"
      ]
    },
    {
      "cell_type": "markdown",
      "metadata": {
        "id": "y5u8dJTT_EI0"
      },
      "source": [
        "**a) Write a program to compute distance between two points taking input from the user(Pythagorean \n",
        "Theorem)** "
      ]
    },
    {
      "cell_type": "code",
      "metadata": {
        "colab": {
          "base_uri": "https://localhost:8080/"
        },
        "id": "TWWMEz3fAYsO",
        "outputId": "47c1f99e-5db6-415e-a510-7ae67250f2e5"
      },
      "source": [
        "import math\n",
        "x1=int(input(\"enter x1 value\"))\n",
        "x2=int(input(\"enter x2 value\"))\n",
        "y1=int(input(\"enter y1 value\"))\n",
        "y2=int(input(\"enter y2 value\"))\n",
        "\n",
        "distance=math.sqrt((x2-x1)**2+(y2-y1)**2)\n",
        "print(\"distance between two points is:\",distance)\n"
      ],
      "execution_count": null,
      "outputs": [
        {
          "output_type": "stream",
          "text": [
            "enter x1 value1\n",
            "enter x2 value2\n",
            "enter y1 value5\n",
            "enter y2 value3\n"
          ],
          "name": "stdout"
        }
      ]
    },
    {
      "cell_type": "markdown",
      "metadata": {
        "id": "WhWFZOTsBw3B"
      },
      "source": [
        "**b) Write a program add.py that takes 2 numbers as command line arguments and prints its sum**"
      ]
    },
    {
      "cell_type": "code",
      "metadata": {
        "id": "GyFebUGOCEgr"
      },
      "source": [
        "import sys\n",
        "a=int(sys.argv[1])\n",
        "b=int(sys.argv[2])\n",
        "sum=a+b\n",
        "print(\"sum is\",sum)"
      ],
      "execution_count": null,
      "outputs": []
    },
    {
      "cell_type": "markdown",
      "metadata": {
        "id": "8GBuHCF8NU84"
      },
      "source": [
        "#***Exercise - 3 :Control Flow***"
      ]
    },
    {
      "cell_type": "markdown",
      "metadata": {
        "id": "T-88JJybNbzL"
      },
      "source": [
        "**a) Write a Program for checking whether the given number is an even number or not**"
      ]
    },
    {
      "cell_type": "code",
      "metadata": {
        "id": "C1xWavIHNnnQ",
        "colab": {
          "base_uri": "https://localhost:8080/"
        },
        "outputId": "a19e62f5-c5e9-464d-e11a-1430d6a6b24c"
      },
      "source": [
        "n=int(input(\"enter number \"))\n",
        "if (n%2)==0:\n",
        "    print(\"given number is even\")\n",
        "else:\n",
        "    print(\"given number is odd\")"
      ],
      "execution_count": null,
      "outputs": [
        {
          "output_type": "stream",
          "text": [
            "enter number 5\n",
            "given number is odd\n"
          ],
          "name": "stdout"
        }
      ]
    },
    {
      "cell_type": "markdown",
      "metadata": {
        "id": "Rshy14lpPETU"
      },
      "source": [
        "**b) Using a for loop, write a program that prints out the decimal equivalents of 1/2, 1/3, 1/4, . . .1/10**"
      ]
    },
    {
      "cell_type": "code",
      "metadata": {
        "id": "jhwSVMlpPaWH",
        "colab": {
          "base_uri": "https://localhost:8080/"
        },
        "outputId": "8566f08f-c9c6-49e2-8664-fa23d3986ebe"
      },
      "source": [
        "n=int(input(\"enter number\"))\n",
        "for i in range(2,n):\n",
        "  d=1/i\n",
        "  print(\"1/\"+str(i),\"=\",d)"
      ],
      "execution_count": null,
      "outputs": [
        {
          "output_type": "stream",
          "text": [
            "enter number9\n",
            "1/2 = 0.5\n",
            "1/3 = 0.3333333333333333\n",
            "1/4 = 0.25\n",
            "1/5 = 0.2\n",
            "1/6 = 0.16666666666666666\n",
            "1/7 = 0.14285714285714285\n",
            "1/8 = 0.125\n"
          ],
          "name": "stdout"
        }
      ]
    },
    {
      "cell_type": "markdown",
      "metadata": {
        "id": "9ytkW_T0RDAt"
      },
      "source": [
        "**c) Write a program using a for loop that loops over a sequence. What is sequence?**"
      ]
    },
    {
      "cell_type": "code",
      "metadata": {
        "id": "QPpB6hrIRZcr",
        "colab": {
          "base_uri": "https://localhost:8080/"
        },
        "outputId": "21b2c4c7-b448-4e68-d280-df77782798ba"
      },
      "source": [
        "array=[\"abc\",4,4.2,True,'c',2]\n",
        "print(\"given array is\",array)\n",
        "for i in array:\n",
        "  print(i)"
      ],
      "execution_count": null,
      "outputs": [
        {
          "output_type": "stream",
          "text": [
            "given array is ['abc', 4, 4.2, True, 'c', 2]\n",
            "abc\n",
            "4\n",
            "4.2\n",
            "True\n",
            "c\n",
            "2\n"
          ],
          "name": "stdout"
        }
      ]
    },
    {
      "cell_type": "markdown",
      "metadata": {
        "id": "4AlFQ3I-Szhi"
      },
      "source": [
        "**d) Write a program using a while loop that asks the user for a number, and prints a countdownfrom \n",
        "that number to zero.**\n"
      ]
    },
    {
      "cell_type": "code",
      "metadata": {
        "id": "lZ_uo01BS3SK",
        "colab": {
          "base_uri": "https://localhost:8080/"
        },
        "outputId": "001872d8-3315-4fe7-e0fb-bfc0cd03e664"
      },
      "source": [
        "n=int(input(\"enter number :\"))\n",
        "while(n>=0):\n",
        "  print(n)\n",
        "  n-=1"
      ],
      "execution_count": null,
      "outputs": [
        {
          "output_type": "stream",
          "text": [
            "enter number :9\n",
            "9\n",
            "8\n",
            "7\n",
            "6\n",
            "5\n",
            "4\n",
            "3\n",
            "2\n",
            "1\n",
            "0\n"
          ],
          "name": "stdout"
        }
      ]
    },
    {
      "cell_type": "markdown",
      "metadata": {
        "id": "5pqEk8YiVJx5"
      },
      "source": [
        "#***Exercise -4 : Control Flow - Continued***"
      ]
    },
    {
      "cell_type": "markdown",
      "metadata": {
        "id": "U6LViKVSVeXw"
      },
      "source": [
        "**a) Find the sum of all the primes below two million.**"
      ]
    },
    {
      "cell_type": "code",
      "metadata": {
        "id": "oz0zGO2gVs6C",
        "colab": {
          "base_uri": "https://localhost:8080/"
        },
        "outputId": "778142f7-a8c7-4e6c-8bd4-2e2dee008ab8"
      },
      "source": [
        "n=int(input(\"enter ending number\"))\n",
        "st=\" \"\n",
        "sum=0\n",
        "for i in range(2,n):\n",
        "   state=True\n",
        "   for j in range(2,i):\n",
        "          if(i%j==0):\n",
        "             state=False\n",
        "             break;\n",
        "   if(state==True):\n",
        "      st+=\"  \"+str(i)\n",
        "      sum+=i\n",
        "print(\"prime numbers is:\")\n",
        "print(st)\n",
        "print(\"sum of prime number is\",sum)"
      ],
      "execution_count": null,
      "outputs": [
        {
          "output_type": "stream",
          "text": [
            "enter ending number4\n",
            "prime numbers is:\n",
            "   2  3\n",
            "sum of prime number is 5\n"
          ],
          "name": "stdout"
        }
      ]
    },
    {
      "cell_type": "markdown",
      "metadata": {
        "id": "RH3AGZOtbwfw"
      },
      "source": [
        "**Each new term in the Fibonacci sequence is \n",
        "generated by adding the previous two terms. Bystarting with 1 and 2, the first 10 terms will be:\n",
        "1, 2, 3, 5, 8, 13, 21, 34, 55, 89, ..**"
      ]
    },
    {
      "cell_type": "code",
      "metadata": {
        "id": "lXyX0HBvcged",
        "colab": {
          "base_uri": "https://localhost:8080/"
        },
        "outputId": "d5999116-e1b1-4e2d-aba4-a8058282525f"
      },
      "source": [
        " \n",
        "n=int(input(\"enter number: \"))\n",
        "a=0\n",
        "b=1\n",
        "c=a+b\n",
        "while(c<=n):\n",
        "   print(c,sep='\\n')\n",
        "   a=b\n",
        "   b=c\n",
        "   c=a+b"
      ],
      "execution_count": null,
      "outputs": [
        {
          "output_type": "stream",
          "text": [
            "enter number: 7\n",
            "1\n",
            "2\n",
            "3\n",
            "5\n"
          ],
          "name": "stdout"
        }
      ]
    },
    {
      "cell_type": "markdown",
      "metadata": {
        "id": "NGhQbbKQfhMz"
      },
      "source": [
        "**b) By considering the terms in the Fibonacci sequence whose values do not exceed four million,find \n",
        "the sum of the even-valued terms**"
      ]
    },
    {
      "cell_type": "code",
      "metadata": {
        "id": "e4kjzC2qYkSV",
        "colab": {
          "base_uri": "https://localhost:8080/"
        },
        "outputId": "4bd1441d-fa82-4032-f754-621e599036f5"
      },
      "source": [
        "n=int(input(\"enter number\"))\n",
        "a=0\n",
        "b=1\n",
        "c=a+b\n",
        "sum=0\n",
        "print(\"sum of even valued terms:\",end='')\n",
        "while c<=n:\n",
        "   if(c%2==0):\n",
        "      print(c,end=' ')\n",
        "      sum+=c\n",
        "   a=b\n",
        "   b=c\n",
        "   c=a+b\n",
        "print(\"\\nsum of fibonacci sequence is\",sum)"
      ],
      "execution_count": null,
      "outputs": [
        {
          "output_type": "stream",
          "text": [
            "enter number4000000\n",
            "sum of even valued terms:2 8 34 144 610 2584 10946 46368 196418 832040 3524578 \n",
            "sum of fibonacci sequence is 4613732\n"
          ],
          "name": "stdout"
        }
      ]
    },
    {
      "cell_type": "markdown",
      "metadata": {
        "id": "dcx0dY_YZnSk"
      },
      "source": [
        "#***Exercise - 5 : DS***"
      ]
    },
    {
      "cell_type": "markdown",
      "metadata": {
        "id": "MtAfsPiJaBhA"
      },
      "source": [
        "**a) Write a program to count the numbers of characters in the string and store them in adictionary data \n",
        "structure**\n"
      ]
    },
    {
      "cell_type": "code",
      "metadata": {
        "id": "E9WUGMlchFjD",
        "colab": {
          "base_uri": "https://localhost:8080/"
        },
        "outputId": "a6cf12e3-fba6-4636-c92b-167b1d15e6f5"
      },
      "source": [
        "name=input(\"enter name\")\n",
        "dic={}\n",
        "for i in name:\n",
        "  keys=dic.keys()\n",
        "  if i in keys:\n",
        "    dic[i]=dic[i]+1\n",
        "  else:\n",
        "    dic[i]=1\n",
        "print(\"dictionery is\",dic)"
      ],
      "execution_count": null,
      "outputs": [
        {
          "output_type": "stream",
          "text": [
            "enter namesai durga devi\n",
            "dictionery is {'s': 1, 'a': 2, 'i': 2, ' ': 2, 'd': 2, 'u': 1, 'r': 1, 'g': 1, 'e': 1, 'v': 1}\n"
          ],
          "name": "stdout"
        }
      ]
    },
    {
      "cell_type": "markdown",
      "metadata": {
        "id": "wAJULT_jm0K-"
      },
      "source": [
        "**b) Write a program to use split and join methods in the string and trace a birthday with adictionary \n",
        "data structure.**"
      ]
    },
    {
      "cell_type": "code",
      "metadata": {
        "colab": {
          "base_uri": "https://localhost:8080/"
        },
        "id": "yivFA5u9m60I",
        "outputId": "bd7aea8b-2ed9-4a83-c7e5-77177388e2e6"
      },
      "source": [
        "dob={\"parnika\":\"07-nov-2000\",\"shannu\":\"20-1-2021\"}\n",
        "name=input(\"which person date of birth you want\")\n",
        "l=name.split()\n",
        "for i in l:\n",
        "   if i in dob.keys():\n",
        "     pers=i\n",
        "print(\" \".join([pers,\"birthday is\",dob[pers]]))\n"
      ],
      "execution_count": null,
      "outputs": [
        {
          "output_type": "stream",
          "text": [
            "which person date of birth you wantshannu\n",
            "shannu birthday is 20-1-2021\n"
          ],
          "name": "stdout"
        }
      ]
    },
    {
      "cell_type": "markdown",
      "metadata": {
        "id": "sO7p46rctrOZ"
      },
      "source": [
        "#***Exercise - 6: DS - Continued***"
      ]
    },
    {
      "cell_type": "markdown",
      "metadata": {
        "id": "yz8iO1Rft7RM"
      },
      "source": [
        "**a) Write a program combinelists that combines these lists into a dictionary**"
      ]
    },
    {
      "cell_type": "code",
      "metadata": {
        "colab": {
          "base_uri": "https://localhost:8080/"
        },
        "id": "V7vJ7DvMuK_2",
        "outputId": "18c1c757-49b4-4de8-8c01-38a194473092"
      },
      "source": [
        "sub={\"DAA\",\"OS\",\"DBMS\",\"P&s\",\"PPL\",\"SE\"}\n",
        "marks={92,96,98,89,90,94}\n",
        "print(\"given lists are:\")\n",
        "print(\"subjects names:\",sub)\n",
        "print(\"marks :\",marks)\n",
        "dic=dict(zip(sub,marks))\n",
        "print(\"\\ndictionary\",dic)"
      ],
      "execution_count": null,
      "outputs": [
        {
          "output_type": "stream",
          "text": [
            "given lists are:\n",
            "subjects names: {'DAA', 'OS', 'SE', 'DBMS', 'PPL', 'P&s'}\n",
            "marks : {96, 98, 89, 90, 92, 94}\n",
            "\n",
            "dictionary {'DAA': 96, 'OS': 98, 'SE': 89, 'DBMS': 90, 'PPL': 92, 'P&s': 94}\n"
          ],
          "name": "stdout"
        }
      ]
    },
    {
      "cell_type": "markdown",
      "metadata": {
        "id": "GVwIHy1_w3aZ"
      },
      "source": [
        "**b) Write a program to count frequency of characters in a given file. Can you use characterfrequency to \n",
        "tell whether the given file is a Python program file, C program file or a text file?**"
      ]
    },
    {
      "cell_type": "code",
      "metadata": {
        "id": "ZpA067uRw7fk",
        "colab": {
          "base_uri": "https://localhost:8080/"
        },
        "outputId": "9081d468-68ba-4aa7-e802-c8e5604b0b59"
      },
      "source": [
        "f=open(\"abc.txt\",\"w\")\n",
        "f.write(\"welcome to python Programming\")\n",
        "f.close()\n",
        "filetypes={'.py','.c','.txt'}\n",
        "fn=input(\"enter file name\")\n",
        "f=open(fn,\"r\")\n",
        "count=dict()\n",
        "print(\"given file is:\",end=\" \")\n",
        "for ft in filetypes:\n",
        "  if(ft in fn):\n",
        "    if(ft=='.py'):\n",
        "      print(\"python file\")\n",
        "    elif(ft=='.c'):\n",
        "      print(\"c file\")\n",
        "    elif(ft=='.txt'):\n",
        "      print(\"text file\")\n",
        "for line in f:\n",
        "  for ch in line:\n",
        "    if ch in count:\n",
        "      count[ch]=count[ch]+1\n",
        "    else:\n",
        "      count[ch]=1\n",
        "print(count)\n",
        "f.close()\n",
        "  \n"
      ],
      "execution_count": null,
      "outputs": [
        {
          "output_type": "stream",
          "text": [
            "enter file nameabc.txt\n",
            "given file is: text file\n",
            "{'w': 1, 'e': 2, 'l': 1, 'c': 1, 'o': 4, 'm': 3, ' ': 3, 't': 2, 'p': 1, 'y': 1, 'h': 1, 'n': 2, 'P': 1, 'r': 2, 'g': 2, 'a': 1, 'i': 1}\n"
          ],
          "name": "stdout"
        }
      ]
    },
    {
      "cell_type": "markdown",
      "metadata": {
        "id": "b2vLyFd2_sUC"
      },
      "source": [
        "#***Exercise - 7: Files***"
      ]
    },
    {
      "cell_type": "markdown",
      "metadata": {
        "id": "2TUloz16_yaU"
      },
      "source": [
        "**a) Write a program to print each line of a file in reverse order.**"
      ]
    },
    {
      "cell_type": "code",
      "metadata": {
        "id": "f9hrLRsv_6QB",
        "colab": {
          "base_uri": "https://localhost:8080/"
        },
        "outputId": "abb00ac6-b214-4a0c-a61e-df07002626d2"
      },
      "source": [
        "f=open(\"abc.txt\",\"w\")\n",
        "f.write(\"welcome to python Programming\")\n",
        "f.close()\n",
        "obj=open(\"abc.txt\",\"r\")\n",
        "if obj:\n",
        "  st=obj.read( )\n",
        "  print(\"file content is\\n\",st)\n",
        "obj.close()\n",
        "print()\n",
        "lines=st.split('\\n')\n",
        "for ln in lines:\n",
        "  i=len(ln)-1\n",
        "  while(i>=0):\n",
        "    print(ln[i],end=' ')\n",
        "    i=i-1\n",
        "  print()"
      ],
      "execution_count": null,
      "outputs": [
        {
          "output_type": "stream",
          "text": [
            "file content is\n",
            " welcome to python Programming\n",
            "\n",
            "g n i m m a r g o r P   n o h t y p   o t   e m o c l e w \n"
          ],
          "name": "stdout"
        }
      ]
    },
    {
      "cell_type": "markdown",
      "metadata": {
        "id": "oQ_jKjgWHgRL"
      },
      "source": [
        "**b) Write a program to compute the number of characters, words and lines in a file.**"
      ]
    },
    {
      "cell_type": "code",
      "metadata": {
        "colab": {
          "base_uri": "https://localhost:8080/"
        },
        "id": "CPav7QndHmi2",
        "outputId": "0403195d-ef0f-4375-b436-edc093b263d8"
      },
      "source": [
        "f=open(\"abc.txt\",\"w\")\n",
        "lst=[\"welcome \",\"to \",\"python \",\"programming \",\"\\n\",\"swarnandra \",\"clg \",\"of \",\"engineering \",\"and \",\"technology \"]\n",
        "f.writelines(lst)\n",
        "f.close()\n",
        "file=open(\"abc.txt\",\"r\")\n",
        "nl=nw=nc=0\n",
        "print(\"file content:\\n\")\n",
        "for line in file:\n",
        "  ln=line.strip(\"\\n\")\n",
        "  print(ln)\n",
        "  words=ln.split()\n",
        "  print(words)\n",
        "  nl+=1\n",
        "  nw+=len(words)\n",
        "  nc+=len(line)\n",
        "file.close()\n",
        "print(\"\\n no.of lines:\",nl,\"words:\",nw,\"characters:\",nc)"
      ],
      "execution_count": null,
      "outputs": [
        {
          "output_type": "stream",
          "text": [
            "file content:\n",
            "\n",
            "welcome to python programming \n",
            "['welcome', 'to', 'python', 'programming']\n",
            "swarnandra clg of engineering and technology \n",
            "['swarnandra', 'clg', 'of', 'engineering', 'and', 'technology']\n",
            "\n",
            " no.of lines: 2 words: 10 characters: 76\n"
          ],
          "name": "stdout"
        }
      ]
    },
    {
      "cell_type": "markdown",
      "metadata": {
        "id": "-wlg2SBQLwv5"
      },
      "source": [
        "#***Exercise - 8: Functions***"
      ]
    },
    {
      "cell_type": "markdown",
      "metadata": {
        "id": "-qYteeiKL3Mc"
      },
      "source": [
        "**a) Write a function ball collide that takes two balls as parameters and computes if they arecolliding. \n",
        "Your function should return a Boolean representing whether or not the balls arecolliding.\n",
        "Hint: Represent a ball on a plane as a tuple of (x, y, r), r being the radius\n",
        "If (distance between two balls centers) <= (sum of their radii) then (they are colliding)**\n"
      ]
    },
    {
      "cell_type": "code",
      "metadata": {
        "colab": {
          "base_uri": "https://localhost:8080/"
        },
        "id": "Z0eIev1dMCDZ",
        "outputId": "07a0c2b3-fc0e-4db5-ddf6-412c24ad8dd5"
      },
      "source": [
        "import math\n",
        "def collide(ball_tup1,ball_tup2):\n",
        "   x1,y1,r1=ball_tup1\n",
        "   x2,y2,r2=ball_tup2\n",
        "   print(\"ball-01\",ball_tup1)\n",
        "   print(\"ball-02\",ball_tup2)\n",
        "   d=math.sqrt((x2-x1)**2+(y2-y1)**2)\n",
        "   print(\"centriod of distance of two balls :\",d)\n",
        "   print(\"sum of radius of ball-1 and ball-2 is:{}+{}={}\".format(r1,r2,r1+r2))\n",
        "   if(d<=r1+r2):\n",
        "     return True\n",
        "   else:\n",
        "     return False\n",
        "b1=(-2,-4,3)\n",
        "b2=(4,6,3)\n",
        "if collide(b1,b2):\n",
        "  print(\"balls are colliding...!\")\n",
        "else:\n",
        "  print(\"balls are not colliding...!\")\n"
      ],
      "execution_count": null,
      "outputs": [
        {
          "output_type": "stream",
          "text": [
            "ball-01 (-2, -4, 3)\n",
            "ball-02 (4, 6, 3)\n",
            "centriod of distance of two balls : 11.661903789690601\n",
            "sum of radius of ball-1 and ball-2 is:3+3=6\n",
            "balls are not colliding...!\n"
          ],
          "name": "stdout"
        }
      ]
    },
    {
      "cell_type": "markdown",
      "metadata": {
        "id": "mBNx5MQ8Othf"
      },
      "source": [
        "**b) Find mean, median, mode for the given set of numbers in a list.**"
      ]
    },
    {
      "cell_type": "code",
      "metadata": {
        "colab": {
          "base_uri": "https://localhost:8080/"
        },
        "id": "_NzApGdGO9vq",
        "outputId": "7351ecc8-3ad3-46fd-c472-2fdd4bfeca2d"
      },
      "source": [
        "def list_mean(num_list):\n",
        "  return sum(num_list)/len(num_list)\n",
        "def list_median(num_list):\n",
        "  num_list.sort()\n",
        "  n=len(num_list)\n",
        "  mid=n//2\n",
        "  if(n%2==1):\n",
        "    return mid\n",
        "  else:\n",
        "    return (num_list[mid-1]+num_list[mid])/2\n",
        "def list_mode(num_list):\n",
        "  num_list.sort()\n",
        "  temp=[]\n",
        "  i=0\n",
        "  while i<len(num_list):\n",
        "    temp.append(num_list.count(num_list[i]))\n",
        "    i+=1\n",
        "  dic=dict(zip(num_list,temp))\n",
        "  mode={k for(k,v) in dic.items() if v==max(temp)}\n",
        "  return mode\n",
        "list=[1,1,2,2,23,4,5,3,6,2]\n",
        "print(\"given list is:\",list)\n",
        "print(\"mean of the given list is:\",list_mean(list) )\n",
        "print(\"median of the list is:\",list_median(list))\n",
        "print(\"mode of given list is:\",list_mode(list)) \n"
      ],
      "execution_count": null,
      "outputs": [
        {
          "output_type": "stream",
          "text": [
            "given list is: [1, 1, 2, 2, 23, 4, 5, 3, 6, 2]\n",
            "mean of the given list is: 4.9\n",
            "median of the list is: 2.5\n",
            "mode of given list is: {2}\n"
          ],
          "name": "stdout"
        }
      ]
    },
    {
      "cell_type": "markdown",
      "metadata": {
        "id": "cpzVlSAU24SN"
      },
      "source": [
        "#***Exercise - 9: Functions - Continued***"
      ]
    },
    {
      "cell_type": "markdown",
      "metadata": {
        "id": "JIzYQr4E2_FS"
      },
      "source": [
        "**a) Write a function nearly equal to test whether two strings are nearly equal. Two strings a and bare \n",
        "nearly equal when a can be generated by a single mutation on b.**"
      ]
    },
    {
      "cell_type": "code",
      "metadata": {
        "colab": {
          "base_uri": "https://localhost:8080/"
        },
        "id": "qLzWZW4i4u14",
        "outputId": "efc5b33d-7949-4fce-db36-47fc7b1cd0f1"
      },
      "source": [
        "def nearly_eq(str1,str2):\n",
        "  count=0\n",
        "  i=j=0\n",
        "  while(i<len(str1)and(j<len(str2))):\n",
        "    if len(str1)!=len(str2):\n",
        "      count+=1\n",
        "      if len(str1)>len(str2):\n",
        "        i+=1\n",
        "      elif len(str1)==len(str2):\n",
        "        pass\n",
        "      else:\n",
        "        i-=1\n",
        "    if count>1:\n",
        "       return False\n",
        "    i+=1\n",
        "    j+=1\n",
        "  if(count<2):\n",
        "    return True\n",
        "s1=input(\"enter string1:\")\n",
        "s2=input(\"enter string2:\")\n",
        "bin=nearly_eq(s1,s2)\n",
        "if(bin):\n",
        "  print(\"strings are nearly equal\")\n",
        "else:\n",
        "  print(\"strings are not equal\")     "
      ],
      "execution_count": null,
      "outputs": [
        {
          "output_type": "stream",
          "text": [
            "enter string1:scet\n",
            "enter string2:scet cse\n",
            "strings are not equal\n"
          ],
          "name": "stdout"
        }
      ]
    },
    {
      "cell_type": "markdown",
      "metadata": {
        "id": "iG3Qt6t06eyu"
      },
      "source": [
        "**b) Write a function dup to find all duplicates in the list.**"
      ]
    },
    {
      "cell_type": "code",
      "metadata": {
        "colab": {
          "base_uri": "https://localhost:8080/"
        },
        "id": "XylSoJL26ifQ",
        "outputId": "bf2a2013-7385-48c2-869a-61deac6a113c"
      },
      "source": [
        "def dups(numlist):\n",
        "  temp=[]\n",
        "  for i in numlist:\n",
        "    cnt=numlist.count(i)\n",
        "    if(cnt>1 and (i not in temp)):\n",
        "      temp.append(i)\n",
        "  print(\"duplicates in the list:\",temp)\n",
        "lst=[1,2,3,1,4,1,6,3,5,3,2]\n",
        "print(\"given elemnets is:\",lst)\n",
        "dups(lst)"
      ],
      "execution_count": null,
      "outputs": [
        {
          "output_type": "stream",
          "text": [
            "given elemnets is: [1, 2, 3, 1, 4, 1, 6, 3, 5, 3, 2]\n",
            "duplicates in the list: [1, 2, 3]\n"
          ],
          "name": "stdout"
        }
      ]
    },
    {
      "cell_type": "markdown",
      "metadata": {
        "id": "bVTqWy1M9Ndq"
      },
      "source": [
        "**c) Write a function unique to find all the unique elements of a list.**"
      ]
    },
    {
      "cell_type": "code",
      "metadata": {
        "colab": {
          "base_uri": "https://localhost:8080/"
        },
        "id": "zbnFkLfL9Qsk",
        "outputId": "d1e0f899-7b2e-4af0-a20c-1471a35277b1"
      },
      "source": [
        "def unique(numlist):\n",
        "  temp=[]\n",
        "  for i in numlist:\n",
        "    cnt=numlist.count(i)\n",
        "    if(cnt==1):\n",
        "      temp.append(i)\n",
        "  print(\"unique  in the list:\",temp)\n",
        "lst=[1,2,3,1,4,1,6,3,5,3,2]\n",
        "print(\"given elemnets is:\",lst)\n",
        "unique(lst)"
      ],
      "execution_count": null,
      "outputs": [
        {
          "output_type": "stream",
          "text": [
            "given elemnets is: [1, 2, 3, 1, 4, 1, 6, 3, 5, 3, 2]\n",
            "unique  in the list: [4, 6, 5]\n"
          ],
          "name": "stdout"
        }
      ]
    },
    {
      "cell_type": "markdown",
      "metadata": {
        "id": "SxmHiNgP97lP"
      },
      "source": [
        "#***Exercise - 10 : Functions - Problem Solving***"
      ]
    },
    {
      "cell_type": "markdown",
      "metadata": {
        "id": "G6EXRIea-DwC"
      },
      "source": [
        "**a) Write a function cumulative product to compute cumulative product of a list of numbers.**"
      ]
    },
    {
      "cell_type": "code",
      "metadata": {
        "colab": {
          "base_uri": "https://localhost:8080/"
        },
        "id": "CiqHnHa5-mKd",
        "outputId": "19b8be2e-25ac-4daf-8535-d3b9b9f4a0c5"
      },
      "source": [
        "def cum_prod(num_list):\n",
        "  prd=1\n",
        "  temp=[]\n",
        "  for i in num_list:\n",
        "    prd*=i\n",
        "    temp.append(prd)\n",
        "  return temp\n",
        "list=[1,3,2,4,2,5,6,3]\n",
        "print(\"given list is:\",list)\n",
        "print(\"cummulative product is:\",cum_prod(list))"
      ],
      "execution_count": null,
      "outputs": [
        {
          "output_type": "stream",
          "text": [
            "given list is: [1, 3, 2, 4, 2, 5, 6, 3]\n",
            "cummulative product is: [1, 3, 6, 24, 48, 240, 1440, 4320]\n"
          ],
          "name": "stdout"
        }
      ]
    },
    {
      "cell_type": "markdown",
      "metadata": {
        "id": "EIFmxsfS_zCV"
      },
      "source": [
        "**b) Write a function reverse to reverse a list. Without using the reverse function**"
      ]
    },
    {
      "cell_type": "code",
      "metadata": {
        "colab": {
          "base_uri": "https://localhost:8080/"
        },
        "id": "Yhm5xxLWADMd",
        "outputId": "c9574316-6a7d-4463-d3b6-e0ecc86f2f76"
      },
      "source": [
        "def reverse_list(num_list):\n",
        "  i=0\n",
        "  j=len(num_list)-1\n",
        "  while(i<=j):\n",
        "    temp=num_list[i]\n",
        "    num_list[i]=num_list[j]\n",
        "    num_list[j]=temp\n",
        "    j-=1\n",
        "    i+=1\n",
        "  return num_list\n",
        "list=[1,2,5,6,7,8]\n",
        "print(\"given list is:\",list)\n",
        "reverse_list(list)\n",
        "print(\"reverse of list is:\",list)  \n"
      ],
      "execution_count": null,
      "outputs": [
        {
          "output_type": "stream",
          "text": [
            "given list is: [1, 2, 5, 6, 7, 8]\n",
            "reverse of list is: [8, 7, 6, 5, 2, 1]\n"
          ],
          "name": "stdout"
        }
      ]
    },
    {
      "cell_type": "markdown",
      "metadata": {
        "id": "5mX6MS6eBY8d"
      },
      "source": [
        "**c) Write function to compute gcd, lcm of two numbers. Each function shouldn’t exceed one line**"
      ]
    },
    {
      "cell_type": "code",
      "metadata": {
        "colab": {
          "base_uri": "https://localhost:8080/"
        },
        "id": "DdNrkxzcCRw4",
        "outputId": "dba0af96-f2fc-4757-b34c-2b39744a39d3"
      },
      "source": [
        "gcd=lambda a,b:a if b==0 else gcd(a,a%b)\n",
        "lcm=lambda a,b:(a*b)/gcd(a,b)\n",
        "x=4\n",
        "y=24\n",
        "print(\"given number :\",x,y)\n",
        "print(\"gcd is:\",gcd(x,y))\n",
        "print(\"lcm is:\",lcm(x,y))"
      ],
      "execution_count": null,
      "outputs": [
        {
          "output_type": "stream",
          "text": [
            "given number : 4 24\n",
            "gcd is: 4\n",
            "lcm is: 24.0\n"
          ],
          "name": "stdout"
        }
      ]
    },
    {
      "cell_type": "markdown",
      "metadata": {
        "id": "aVJRn6YBDXjV"
      },
      "source": [
        "#***Exercise -11 : Multi-D Lists***"
      ]
    },
    {
      "cell_type": "markdown",
      "metadata": {
        "id": "7JxPPri6DeXa"
      },
      "source": [
        "**a) Write a program that defines a matrix and prints**"
      ]
    },
    {
      "cell_type": "code",
      "metadata": {
        "id": "Ehbe4VSsTFAq",
        "colab": {
          "base_uri": "https://localhost:8080/"
        },
        "outputId": "8835af4e-fb3b-4b24-cd7f-c95bb34674fc"
      },
      "source": [
        "matA=[[]]\n",
        "rows=int(input(\"enter no of rows\"))\n",
        "colms=int(input(\"enter colms\"))\n",
        "matA=[[int(input(\"enter  [%d,%d] value :\"%(i,j)))for j in range(colms)]for i in range(rows)]\n",
        "print(\"matrix is\\n\")\n",
        "\n",
        "for i in range(rows):\n",
        "  for j in range(colms):\n",
        "    print(matA[i][j],end=\"\\t\")\n",
        "  print()  "
      ],
      "execution_count": 18,
      "outputs": [
        {
          "output_type": "stream",
          "text": [
            "enter no of rows3\n",
            "enter colms3\n",
            "enter  [0,0] value :1\n",
            "enter  [0,1] value :5\n",
            "enter  [0,2] value :2\n",
            "enter  [1,0] value :6\n",
            "enter  [1,1] value :3\n",
            "enter  [1,2] value :2\n",
            "enter  [2,0] value :6\n",
            "enter  [2,1] value :7\n",
            "enter  [2,2] value :8\n",
            "matrix is\n",
            "\n",
            "1\t5\t2\t\n",
            "6\t3\t2\t\n",
            "6\t7\t8\t\n"
          ],
          "name": "stdout"
        }
      ]
    },
    {
      "cell_type": "markdown",
      "metadata": {
        "id": "-he0urodDoJT"
      },
      "source": [
        "**b) Write a program to perform addition of two square matrices**"
      ]
    },
    {
      "cell_type": "code",
      "metadata": {
        "colab": {
          "base_uri": "https://localhost:8080/"
        },
        "id": "mbB6Ac8jXVxF",
        "outputId": "addcad6b-351f-44e6-9442-0fe88721489c"
      },
      "source": [
        "def matRead(r,c):\n",
        "  return[[int(input(\"enter [%d,%d] value:\"%(i,j)))for j in range(c)]for i in range(r)]\n",
        "   \n",
        "def disp(mat,r,c):\n",
        "  for i in range(r):\n",
        "    for j in range(c):\n",
        "      print(mat[i][j],end='   ')\n",
        "    print()\n",
        "\n",
        "matA=[[]]\n",
        "matB=[[]]\n",
        "summat=[[]]\n",
        "rows=int(input(\"enter no of rows:\"))\n",
        "cols=int(input(\"enter no of columns:\"))\n",
        "if rows==cols:1\n",
        "  print(\"enter matrix A elements:\")\n",
        "  matA=matRead(rows,cols) \n",
        "  print(\"enter matrix B elements:\")\n",
        "  matB=matRead(rows,cols)\n",
        "  print(\"matrix A is:\")\n",
        "  disp(matA,rows,cols) \n",
        "  print(\"matrix B is:\")\n",
        "  disp(matB,rows,cols)\n",
        "\n",
        "  summat=[[matA[i][j]+matB[i][j]for j in range(cols)]for i in range(rows)]\n",
        "  print(\"sum of matrices:\")\n",
        "  disp(summat,rows,cols)\n",
        "else:\n",
        "  print(\"matrix addition is not possible\")\n",
        "   \n",
        "  \n"
      ],
      "execution_count": 4,
      "outputs": [
        {
          "output_type": "stream",
          "text": [
            "enter no of rows:2\n",
            "enter no of columns:2\n",
            "enter matrix A elements:\n",
            "enter [0,0] value:3\n",
            "enter [0,1] value:1\n",
            "enter [1,0] value:5\n",
            "enter [1,1] value:3\n",
            "enter matrix B elements:\n",
            "enter [0,0] value:7\n",
            "enter [0,1] value:5\n",
            "enter [1,0] value:3\n",
            "enter [1,1] value:2\n",
            "matrix A is:\n",
            "3   1   \n",
            "5   3   \n",
            "matrix B is:\n",
            "7   5   \n",
            "3   2   \n",
            "sum of matrices:\n",
            "10   6   \n",
            "8   5   \n"
          ],
          "name": "stdout"
        }
      ]
    },
    {
      "cell_type": "markdown",
      "metadata": {
        "id": "zzoexBuTDv9i"
      },
      "source": [
        "**c) Write a program to perform multiplication of two square matrices**"
      ]
    },
    {
      "cell_type": "code",
      "metadata": {
        "colab": {
          "base_uri": "https://localhost:8080/"
        },
        "id": "veoxDUXrYXVR",
        "outputId": "ae8520bc-0ad4-49e3-be30-f6009e9136c7"
      },
      "source": [
        "def matRead(r,c):\n",
        "  return[[int(input(\"enter [%d,%d] value:\"%(i,j)))for j in range(c)]for i in range(r)]\n",
        "   \n",
        "def disp(mat,r,c):\n",
        "  for i in range(r):\n",
        "    for j in range(c):\n",
        "      print(mat[i][j],end='   ')\n",
        "    print()\n",
        "\n",
        "matA=[[]]\n",
        "matB=[[]]\n",
        "mulmat=[[]]\n",
        "rows=int(input(\"enter no of rows:\"))\n",
        "cols=int(input(\"enter no of columns:\"))\n",
        "if rows==cols:3\n",
        "  print(\"enter matrix A elements:\")\n",
        "  matA=matRead(rows,cols) \n",
        "  print(\"enter matrix B elements:\")\n",
        "  matB=matRead(rows,cols)\n",
        "  print(\"matrix A is:\")\n",
        "  disp(matA,rows,cols) \n",
        "  print(\"matrix B is:\")\n",
        "  disp(matB,rows,cols)\n",
        "  mulmat=[[0 for j in range(cols)]for i in range(rows)]\n",
        "  for i in range(rows):\n",
        "    for j in range(cols):\n",
        "      for k in range(cols):\n",
        "        mulmat[i][j]=matA[i][k]*matB[k][j]\n",
        "  print(\"matrix multiplication is:\")\n",
        "\n",
        "\n",
        "  \n",
        "  \n",
        "  disp(mulmat,rows,cols)\n",
        "else:\n",
        "  print(\"matrix addition is not possible\")\n",
        "   \n",
        "  \n"
      ],
      "execution_count": 9,
      "outputs": [
        {
          "output_type": "stream",
          "text": [
            "enter no of rows:2\n",
            "enter no of columns:2\n",
            "enter matrix A elements:\n",
            "enter [0,0] value:2\n",
            "enter [0,1] value:5\n",
            "enter [1,0] value:3\n",
            "enter [1,1] value:7\n",
            "enter matrix B elements:\n",
            "enter [0,0] value:2\n",
            "enter [0,1] value:6\n",
            "enter [1,0] value:4\n",
            "enter [1,1] value:7\n",
            "matrix A is:\n",
            "2   5   \n",
            "3   7   \n",
            "matrix B is:\n",
            "2   6   \n",
            "4   7   \n",
            "matrix multiplication is:\n",
            "20   35   \n",
            "28   49   \n"
          ],
          "name": "stdout"
        }
      ]
    }
  ]
}